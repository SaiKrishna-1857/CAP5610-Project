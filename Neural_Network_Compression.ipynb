{
  "cells": [
    {
      "cell_type": "markdown",
      "metadata": {
        "id": "Y4vRI0Slei2O"
      },
      "source": [
        "# Installing required modules"
      ]
    },
    {
      "cell_type": "code",
      "execution_count": 6,
      "metadata": {
        "colab": {
          "base_uri": "https://localhost:8080/"
        },
        "id": "78kB_7YjHjn0",
        "outputId": "95a3ac6e-caf4-4371-a569-4b4ab521dd45"
      },
      "outputs": [
        {
          "output_type": "stream",
          "name": "stdout",
          "text": [
            "Looking in indexes: https://pypi.org/simple, https://us-python.pkg.dev/colab-wheels/public/simple/\n",
            "Requirement already satisfied: ipython-autotime in /usr/local/lib/python3.8/dist-packages (0.3.1)\n",
            "Requirement already satisfied: ipython in /usr/local/lib/python3.8/dist-packages (from ipython-autotime) (7.9.0)\n",
            "Requirement already satisfied: pexpect in /usr/local/lib/python3.8/dist-packages (from ipython->ipython-autotime) (4.8.0)\n",
            "Requirement already satisfied: decorator in /usr/local/lib/python3.8/dist-packages (from ipython->ipython-autotime) (4.4.2)\n",
            "Requirement already satisfied: traitlets>=4.2 in /usr/local/lib/python3.8/dist-packages (from ipython->ipython-autotime) (5.1.1)\n",
            "Requirement already satisfied: setuptools>=18.5 in /usr/local/lib/python3.8/dist-packages (from ipython->ipython-autotime) (57.4.0)\n",
            "Requirement already satisfied: prompt-toolkit<2.1.0,>=2.0.0 in /usr/local/lib/python3.8/dist-packages (from ipython->ipython-autotime) (2.0.10)\n",
            "Requirement already satisfied: backcall in /usr/local/lib/python3.8/dist-packages (from ipython->ipython-autotime) (0.2.0)\n",
            "Requirement already satisfied: jedi>=0.10 in /usr/local/lib/python3.8/dist-packages (from ipython->ipython-autotime) (0.18.2)\n",
            "Requirement already satisfied: pygments in /usr/local/lib/python3.8/dist-packages (from ipython->ipython-autotime) (2.6.1)\n",
            "Requirement already satisfied: pickleshare in /usr/local/lib/python3.8/dist-packages (from ipython->ipython-autotime) (0.7.5)\n",
            "Requirement already satisfied: parso<0.9.0,>=0.8.0 in /usr/local/lib/python3.8/dist-packages (from jedi>=0.10->ipython->ipython-autotime) (0.8.3)\n",
            "Requirement already satisfied: six>=1.9.0 in /usr/local/lib/python3.8/dist-packages (from prompt-toolkit<2.1.0,>=2.0.0->ipython->ipython-autotime) (1.15.0)\n",
            "Requirement already satisfied: wcwidth in /usr/local/lib/python3.8/dist-packages (from prompt-toolkit<2.1.0,>=2.0.0->ipython->ipython-autotime) (0.2.5)\n",
            "Requirement already satisfied: ptyprocess>=0.5 in /usr/local/lib/python3.8/dist-packages (from pexpect->ipython->ipython-autotime) (0.7.0)\n",
            "time: 2.63 s (started: 2022-12-05 00:20:18 +00:00)\n"
          ]
        }
      ],
      "source": [
        "!pip install ipython-autotime"
      ]
    },
    {
      "cell_type": "code",
      "execution_count": 7,
      "metadata": {
        "colab": {
          "base_uri": "https://localhost:8080/"
        },
        "id": "eKnoBAeD8Lsx",
        "outputId": "ff2ce798-281e-46a5-aea4-a4e33f93f167"
      },
      "outputs": [
        {
          "output_type": "stream",
          "name": "stdout",
          "text": [
            "Looking in indexes: https://pypi.org/simple, https://us-python.pkg.dev/colab-wheels/public/simple/\n",
            "Requirement already satisfied: torch_pruning==0.2.6 in /usr/local/lib/python3.8/dist-packages (0.2.6)\n",
            "Requirement already satisfied: torch in /usr/local/lib/python3.8/dist-packages (from torch_pruning==0.2.6) (1.12.1+cu113)\n",
            "Requirement already satisfied: typing-extensions in /usr/local/lib/python3.8/dist-packages (from torch->torch_pruning==0.2.6) (4.1.1)\n",
            "time: 2.84 s (started: 2022-12-05 00:20:21 +00:00)\n"
          ]
        }
      ],
      "source": [
        "!pip install torch_pruning==0.2.6"
      ]
    },
    {
      "cell_type": "markdown",
      "metadata": {
        "id": "HkoCZA-aY7jB"
      },
      "source": [
        "# Importing required modules"
      ]
    },
    {
      "cell_type": "code",
      "execution_count": 8,
      "metadata": {
        "colab": {
          "base_uri": "https://localhost:8080/"
        },
        "id": "bnsyueTmRuFr",
        "outputId": "a818352e-57e3-4a18-b8e3-6e8ee6856dc2"
      },
      "outputs": [
        {
          "output_type": "stream",
          "name": "stdout",
          "text": [
            "The autotime extension is already loaded. To reload it, use:\n",
            "  %reload_ext autotime\n",
            "time: 1.92 ms (started: 2022-12-05 00:20:24 +00:00)\n"
          ]
        }
      ],
      "source": [
        "# Importing required modules\n",
        "import numpy as np\n",
        "import matplotlib.pyplot as plt\n",
        "import torch\n",
        "from torch.utils.data import DataLoader\n",
        "import torch.optim as optim\n",
        "import torch.nn as nn\n",
        "from torchvision import models,transforms,datasets\n",
        "import torch.nn.utils.prune as prune\n",
        "from copy import deepcopy\n",
        "import torch_pruning as tp\n",
        "import sys\n",
        "import os\n",
        "\n",
        "# Module to time everything\n",
        "%load_ext autotime"
      ]
    },
    {
      "cell_type": "code",
      "execution_count": 9,
      "metadata": {
        "colab": {
          "base_uri": "https://localhost:8080/"
        },
        "id": "XpLwZxqnkIvs",
        "outputId": "c3c59507-34aa-4e2c-83f4-70da0d7a5ce2"
      },
      "outputs": [
        {
          "output_type": "execute_result",
          "data": {
            "text/plain": [
              "device(type='cuda')"
            ]
          },
          "metadata": {},
          "execution_count": 9
        },
        {
          "output_type": "stream",
          "name": "stdout",
          "text": [
            "time: 662 ms (started: 2022-12-05 00:20:24 +00:00)\n"
          ]
        }
      ],
      "source": [
        "# Setting up GPU\n",
        "device = torch.device('cuda' if torch.cuda.is_available() else 'cpu')\n",
        "device"
      ]
    },
    {
      "cell_type": "markdown",
      "metadata": {
        "id": "7JU1Mfvde2AG"
      },
      "source": [
        "# Import CIFAR-100 and Resize"
      ]
    },
    {
      "cell_type": "code",
      "execution_count": 10,
      "metadata": {
        "colab": {
          "base_uri": "https://localhost:8080/"
        },
        "id": "_b0GiF4QUIqL",
        "outputId": "a7659549-e438-4587-cc92-ba51a6f390a0"
      },
      "outputs": [
        {
          "output_type": "stream",
          "name": "stdout",
          "text": [
            "time: 2.18 ms (started: 2022-12-05 00:20:24 +00:00)\n"
          ]
        }
      ],
      "source": [
        "# Transforming the CIFAR100 train dataset and test dataset\n",
        "train_transform = transforms.Compose([transforms.Resize(64),\n",
        "                                   transforms.RandomHorizontalFlip(),\n",
        "                                   transforms.RandomRotation(15),\n",
        "                                   transforms.ToTensor(),\n",
        "                                   transforms.Normalize((0.48,0.4593,0.4155),(0.2774,0.2794,0.2794))])\n",
        "\n",
        "test_transform = transforms.Compose([transforms.Resize(64),\n",
        "                                  transforms.ToTensor(),\n",
        "                                  transforms.Normalize((0.48,0.4593,0.4155),(0.2774,0.2794,0.2794))])"
      ]
    },
    {
      "cell_type": "code",
      "execution_count": 11,
      "metadata": {
        "colab": {
          "base_uri": "https://localhost:8080/",
          "height": 103,
          "referenced_widgets": [
            "34d38957ae3845cc961baca2ee3b11b6",
            "43db0fc915e84149a09fba50d6e77bdf",
            "094555e90c8944899a9a8ddd4096efce",
            "77ebd6c5c752401db2cf074fc309ee4f",
            "71d23318667d4786984d4e4ceb0b7c3c",
            "c8afa359afea466f9d31bfc8e4074ec2",
            "8db06641fc2c4fd196be535f5ce0562a",
            "4837d575088e456d8f8fab0b5fa0a097",
            "aae67006983449f7ab1de2f098cf4bad",
            "05315c7ac1f849f29ee6e7c4ebe2abba",
            "613c9f8362e541f5b649c22b52936cc7"
          ]
        },
        "id": "A9nbu4BoSSj_",
        "outputId": "6d550197-1c45-49ea-d71c-6e898bf79fb6"
      },
      "outputs": [
        {
          "output_type": "stream",
          "name": "stdout",
          "text": [
            "Downloading https://www.cs.toronto.edu/~kriz/cifar-100-python.tar.gz to CIFAR100/cifar-100-python.tar.gz\n"
          ]
        },
        {
          "output_type": "display_data",
          "data": {
            "text/plain": [
              "  0%|          | 0/169001437 [00:00<?, ?it/s]"
            ],
            "application/vnd.jupyter.widget-view+json": {
              "version_major": 2,
              "version_minor": 0,
              "model_id": "34d38957ae3845cc961baca2ee3b11b6"
            }
          },
          "metadata": {}
        },
        {
          "output_type": "stream",
          "name": "stdout",
          "text": [
            "Extracting CIFAR100/cifar-100-python.tar.gz to CIFAR100\n",
            "time: 18.9 s (started: 2022-12-05 00:20:24 +00:00)\n"
          ]
        }
      ],
      "source": [
        "# Loading the train dataset\n",
        "train_data_set = datasets.CIFAR100(root = \"CIFAR100\", train = True, download = True, transform = train_transform)"
      ]
    },
    {
      "cell_type": "code",
      "execution_count": 12,
      "metadata": {
        "colab": {
          "base_uri": "https://localhost:8080/"
        },
        "id": "HrYMgq0mSXIP",
        "outputId": "2bcebc42-d51d-4df1-f641-616f4474f1c5"
      },
      "outputs": [
        {
          "output_type": "stream",
          "name": "stdout",
          "text": [
            "Files already downloaded and verified\n",
            "time: 794 ms (started: 2022-12-05 00:20:43 +00:00)\n"
          ]
        }
      ],
      "source": [
        "# Loading the test dataset\n",
        "test_data_set = datasets.CIFAR100(root = \"CIFAR100\", train = False, download = True, transform = test_transform)"
      ]
    },
    {
      "cell_type": "code",
      "execution_count": 13,
      "metadata": {
        "colab": {
          "base_uri": "https://localhost:8080/"
        },
        "id": "i5bLuLgL7zrF",
        "outputId": "2d9e9738-fa7e-42f1-eda2-17e1fc3df0b9"
      },
      "outputs": [
        {
          "output_type": "execute_result",
          "data": {
            "text/plain": [
              "torch.Size([3, 64, 64])"
            ]
          },
          "metadata": {},
          "execution_count": 13
        },
        {
          "output_type": "stream",
          "name": "stdout",
          "text": [
            "time: 84.8 ms (started: 2022-12-05 00:20:44 +00:00)\n"
          ]
        }
      ],
      "source": [
        "train_data_set[0][0].shape"
      ]
    },
    {
      "cell_type": "code",
      "execution_count": 14,
      "metadata": {
        "colab": {
          "base_uri": "https://localhost:8080/"
        },
        "id": "02RU0eKt73KQ",
        "outputId": "128534ab-e5da-413d-8e0a-a25025820475"
      },
      "outputs": [
        {
          "output_type": "execute_result",
          "data": {
            "text/plain": [
              "torch.Size([3, 64, 64])"
            ]
          },
          "metadata": {},
          "execution_count": 14
        },
        {
          "output_type": "stream",
          "name": "stdout",
          "text": [
            "time: 4.2 ms (started: 2022-12-05 00:20:44 +00:00)\n"
          ]
        }
      ],
      "source": [
        "test_data_set[0][0].shape"
      ]
    },
    {
      "cell_type": "markdown",
      "metadata": {
        "id": "2g65SO2tfYES"
      },
      "source": [
        "# VGG16"
      ]
    },
    {
      "cell_type": "code",
      "execution_count": 15,
      "metadata": {
        "colab": {
          "base_uri": "https://localhost:8080/"
        },
        "id": "0PJxLwDRvpPA",
        "outputId": "ab2dbfb6-ad9c-4d07-e655-85a994406d25"
      },
      "outputs": [
        {
          "output_type": "stream",
          "name": "stdout",
          "text": [
            "time: 600 µs (started: 2022-12-05 00:20:44 +00:00)\n"
          ]
        }
      ],
      "source": [
        "# Defining number of classes in the dataset\n",
        "n_classes = 100\n",
        "\n",
        "# Defining the Batch size for training\n",
        "batch_size = 64\n",
        "\n",
        "# Defining Number of epochs\n",
        "n_epochs = 15"
      ]
    },
    {
      "cell_type": "code",
      "execution_count": 16,
      "metadata": {
        "colab": {
          "base_uri": "https://localhost:8080/",
          "height": 177,
          "referenced_widgets": [
            "6c15cc201c134804afc9919d01002b9b",
            "d70e324bba5c41d7bdece666cd0eee28",
            "63d371c884f74b82b1a4ff751cdd6f43",
            "f5f75a4373bf45ecb8bfb5be938a6033",
            "576bb6776b1a43d2a94293689e8f59c7",
            "b346fa80b4154c608e63ba7d867bf451",
            "ab24a5eadb22499f89a472d9625437e1",
            "5336768bf8684dedb66b61299bcef760",
            "ad9ff2b3c6504656891f42f89fa10f74",
            "d00343b3f5264c8183375ac98743ad72",
            "9915494b9ece4488a6c35cd3c0f7708f"
          ]
        },
        "id": "MdBM_c17kXNx",
        "outputId": "c08ee2e1-7e54-4cac-e303-8ae18fdd97d0"
      },
      "outputs": [
        {
          "output_type": "stream",
          "name": "stderr",
          "text": [
            "/usr/local/lib/python3.8/dist-packages/torchvision/models/_utils.py:208: UserWarning: The parameter 'pretrained' is deprecated since 0.13 and will be removed in 0.15, please use 'weights' instead.\n",
            "  warnings.warn(\n",
            "/usr/local/lib/python3.8/dist-packages/torchvision/models/_utils.py:223: UserWarning: Arguments other than a weight enum or `None` for 'weights' are deprecated since 0.13 and will be removed in 0.15. The current behavior is equivalent to passing `weights=VGG16_Weights.IMAGENET1K_V1`. You can also use `weights=VGG16_Weights.DEFAULT` to get the most up-to-date weights.\n",
            "  warnings.warn(msg)\n",
            "Downloading: \"https://download.pytorch.org/models/vgg16-397923af.pth\" to /root/.cache/torch/hub/checkpoints/vgg16-397923af.pth\n"
          ]
        },
        {
          "output_type": "display_data",
          "data": {
            "text/plain": [
              "  0%|          | 0.00/528M [00:00<?, ?B/s]"
            ],
            "application/vnd.jupyter.widget-view+json": {
              "version_major": 2,
              "version_minor": 0,
              "model_id": "6c15cc201c134804afc9919d01002b9b"
            }
          },
          "metadata": {}
        },
        {
          "output_type": "stream",
          "name": "stdout",
          "text": [
            "time: 10.3 s (started: 2022-12-05 00:20:44 +00:00)\n"
          ]
        }
      ],
      "source": [
        "# Importing VGG16 model with 130 million+ parameters\n",
        "vgg16_model = models.vgg16(pretrained = True)\n",
        "\n",
        "# Modifying last layer out classes\n",
        "vgg16_model.classifier[6].out_features = n_classes\n",
        "\n",
        "vgg16_model = vgg16_model.to(device)"
      ]
    },
    {
      "cell_type": "code",
      "execution_count": 17,
      "metadata": {
        "colab": {
          "base_uri": "https://localhost:8080/"
        },
        "id": "KlCn31Vefi1e",
        "outputId": "5618ee3d-628d-4e8a-8e5e-5ab619fedfb6"
      },
      "outputs": [
        {
          "output_type": "stream",
          "name": "stdout",
          "text": [
            "VGG(\n",
            "  (features): Sequential(\n",
            "    (0): Conv2d(3, 64, kernel_size=(3, 3), stride=(1, 1), padding=(1, 1))\n",
            "    (1): ReLU(inplace=True)\n",
            "    (2): Conv2d(64, 64, kernel_size=(3, 3), stride=(1, 1), padding=(1, 1))\n",
            "    (3): ReLU(inplace=True)\n",
            "    (4): MaxPool2d(kernel_size=2, stride=2, padding=0, dilation=1, ceil_mode=False)\n",
            "    (5): Conv2d(64, 128, kernel_size=(3, 3), stride=(1, 1), padding=(1, 1))\n",
            "    (6): ReLU(inplace=True)\n",
            "    (7): Conv2d(128, 128, kernel_size=(3, 3), stride=(1, 1), padding=(1, 1))\n",
            "    (8): ReLU(inplace=True)\n",
            "    (9): MaxPool2d(kernel_size=2, stride=2, padding=0, dilation=1, ceil_mode=False)\n",
            "    (10): Conv2d(128, 256, kernel_size=(3, 3), stride=(1, 1), padding=(1, 1))\n",
            "    (11): ReLU(inplace=True)\n",
            "    (12): Conv2d(256, 256, kernel_size=(3, 3), stride=(1, 1), padding=(1, 1))\n",
            "    (13): ReLU(inplace=True)\n",
            "    (14): Conv2d(256, 256, kernel_size=(3, 3), stride=(1, 1), padding=(1, 1))\n",
            "    (15): ReLU(inplace=True)\n",
            "    (16): MaxPool2d(kernel_size=2, stride=2, padding=0, dilation=1, ceil_mode=False)\n",
            "    (17): Conv2d(256, 512, kernel_size=(3, 3), stride=(1, 1), padding=(1, 1))\n",
            "    (18): ReLU(inplace=True)\n",
            "    (19): Conv2d(512, 512, kernel_size=(3, 3), stride=(1, 1), padding=(1, 1))\n",
            "    (20): ReLU(inplace=True)\n",
            "    (21): Conv2d(512, 512, kernel_size=(3, 3), stride=(1, 1), padding=(1, 1))\n",
            "    (22): ReLU(inplace=True)\n",
            "    (23): MaxPool2d(kernel_size=2, stride=2, padding=0, dilation=1, ceil_mode=False)\n",
            "    (24): Conv2d(512, 512, kernel_size=(3, 3), stride=(1, 1), padding=(1, 1))\n",
            "    (25): ReLU(inplace=True)\n",
            "    (26): Conv2d(512, 512, kernel_size=(3, 3), stride=(1, 1), padding=(1, 1))\n",
            "    (27): ReLU(inplace=True)\n",
            "    (28): Conv2d(512, 512, kernel_size=(3, 3), stride=(1, 1), padding=(1, 1))\n",
            "    (29): ReLU(inplace=True)\n",
            "    (30): MaxPool2d(kernel_size=2, stride=2, padding=0, dilation=1, ceil_mode=False)\n",
            "  )\n",
            "  (avgpool): AdaptiveAvgPool2d(output_size=(7, 7))\n",
            "  (classifier): Sequential(\n",
            "    (0): Linear(in_features=25088, out_features=4096, bias=True)\n",
            "    (1): ReLU(inplace=True)\n",
            "    (2): Dropout(p=0.5, inplace=False)\n",
            "    (3): Linear(in_features=4096, out_features=4096, bias=True)\n",
            "    (4): ReLU(inplace=True)\n",
            "    (5): Dropout(p=0.5, inplace=False)\n",
            "    (6): Linear(in_features=4096, out_features=100, bias=True)\n",
            "  )\n",
            ")\n",
            "time: 2.15 ms (started: 2022-12-05 00:20:54 +00:00)\n"
          ]
        }
      ],
      "source": [
        "# Printing VGG16 Model\n",
        "print(vgg16_model)"
      ]
    },
    {
      "cell_type": "markdown",
      "metadata": {
        "id": "jqx8S8jIe_pM"
      },
      "source": [
        "# Training"
      ]
    },
    {
      "cell_type": "code",
      "execution_count": 18,
      "metadata": {
        "colab": {
          "base_uri": "https://localhost:8080/"
        },
        "id": "nR8nsYZ_px8S",
        "outputId": "cac64895-2364-4f65-fa9c-515a11eaee15"
      },
      "outputs": [
        {
          "output_type": "stream",
          "name": "stdout",
          "text": [
            "time: 2.86 ms (started: 2022-12-05 00:20:54 +00:00)\n"
          ]
        }
      ],
      "source": [
        "# To compute the cross entropy loss between input and target\n",
        "criterion = nn.CrossEntropyLoss()\n",
        "\n",
        "# To implement stochastic gradient descent and optimize the model\n",
        "sgd_optimizer = optim.SGD(vgg16_model.parameters(), lr = 0.003, momentum = 0.9)\n",
        "\n",
        "# Decays the learning rate of each parameter group by gamma every step_size epochs\n",
        "lr_scheduler = optim.lr_scheduler.StepLR(sgd_optimizer, step_size = 15, gamma = 0.1)\n",
        "\n",
        "# Defining a 'DataLoader' constructor, a Python iterable over a dataset\n",
        "train_dataloader  = DataLoader(train_data_set, batch_size = batch_size, shuffle = True)\n",
        "test_dataloader   = DataLoader(test_data_set, batch_size = batch_size, shuffle = True)"
      ]
    },
    {
      "cell_type": "code",
      "execution_count": 19,
      "metadata": {
        "colab": {
          "base_uri": "https://localhost:8080/"
        },
        "id": "M58bUMju28j4",
        "outputId": "6c689468-0057-4d6b-d81d-37ea1601cf52"
      },
      "outputs": [
        {
          "output_type": "stream",
          "name": "stdout",
          "text": [
            "time: 1.72 ms (started: 2022-12-05 00:20:54 +00:00)\n"
          ]
        }
      ],
      "source": [
        "# Method to train the model\n",
        "def fit(model, dataset, optimizer, scheduler, criterion):\n",
        "  # Set model to training mode\n",
        "  model.train()\n",
        "  if scheduler != None:\n",
        "    scheduler.step()\n",
        "  # Iterating over the data\n",
        "  for data, targets in dataset:\n",
        "    data    = data.to(device)\n",
        "    targets = targets.to(device)\n",
        "    # Reset the gradients\n",
        "    optimizer.zero_grad()\n",
        "    # Generate predictions\n",
        "    pred  = model(data)\n",
        "    # Calculate loss\n",
        "    loss  = criterion(pred, targets)\n",
        "    # Backpropagation\n",
        "    loss.backward()\n",
        "    # Update model parameters\n",
        "    optimizer.step()"
      ]
    },
    {
      "cell_type": "code",
      "execution_count": 20,
      "metadata": {
        "colab": {
          "base_uri": "https://localhost:8080/"
        },
        "id": "ZSPUrB5mperN",
        "outputId": "c545caed-aba1-4220-82bc-d396f3776eef"
      },
      "outputs": [
        {
          "output_type": "stream",
          "name": "stdout",
          "text": [
            "time: 2.07 ms (started: 2022-12-05 00:20:54 +00:00)\n"
          ]
        }
      ],
      "source": [
        "from os import pread\n",
        "# Method to validate the model\n",
        "def validate(model, dataset, criterion):\n",
        "  # Set model to evaluation mode\n",
        "  model.eval()\n",
        "  accuracy  = 0\n",
        "  loss      = []\n",
        "  for data, targets in dataset:\n",
        "    data    = data.to(device)\n",
        "    targets = targets.to(device)\n",
        "    pred    = model(data)\n",
        "    # Get loss\n",
        "    l = criterion(pred, targets)\n",
        "    loss.append(l.item())\n",
        "    # Get index of class label\n",
        "    _,preds = torch.max(pred.data,1)\n",
        "    # Get accuracy\n",
        "    accuracy += torch.sum(preds == targets).item()\n",
        "\n",
        "  return 100*accuracy/len(dataset.dataset), np.mean(np.array(loss))"
      ]
    },
    {
      "cell_type": "code",
      "execution_count": 21,
      "metadata": {
        "colab": {
          "base_uri": "https://localhost:8080/"
        },
        "id": "vCp8TFGSfzYx",
        "outputId": "49555426-8a91-4238-db58-1e5f0dbd7729"
      },
      "outputs": [
        {
          "output_type": "stream",
          "name": "stderr",
          "text": [
            "/usr/local/lib/python3.8/dist-packages/torch/optim/lr_scheduler.py:131: UserWarning: Detected call of `lr_scheduler.step()` before `optimizer.step()`. In PyTorch 1.1.0 and later, you should call them in the opposite order: `optimizer.step()` before `lr_scheduler.step()`.  Failure to do this will result in PyTorch skipping the first value of the learning rate schedule. See more details at https://pytorch.org/docs/stable/optim.html#how-to-adjust-learning-rate\n",
            "  warnings.warn(\"Detected call of `lr_scheduler.step()` before `optimizer.step()`. \"\n"
          ]
        },
        {
          "output_type": "stream",
          "name": "stdout",
          "text": [
            "Epoch: 1\t Train_Loss:2.8910\t Train_Acc:24.5320\t Test_Loss:2.8570\t Test_Acc:25.1500\n",
            "Epoch: 2\t Train_Loss:1.9007\t Train_Acc:46.2920\t Test_Loss:1.9194\t Test_Acc:45.1000\n",
            "Epoch: 3\t Train_Loss:1.4763\t Train_Acc:57.9180\t Test_Loss:1.5240\t Test_Acc:56.3700\n",
            "Epoch: 4\t Train_Loss:1.2635\t Train_Acc:63.5120\t Test_Loss:1.4159\t Test_Acc:60.1500\n",
            "Epoch: 5\t Train_Loss:1.0431\t Train_Acc:69.5580\t Test_Loss:1.2558\t Test_Acc:64.5900\n",
            "Epoch: 6\t Train_Loss:0.8838\t Train_Acc:73.6820\t Test_Loss:1.1475\t Test_Acc:67.1500\n",
            "Epoch: 7\t Train_Loss:0.8522\t Train_Acc:74.4360\t Test_Loss:1.1774\t Test_Acc:67.1000\n",
            "Epoch: 8\t Train_Loss:0.7457\t Train_Acc:77.2880\t Test_Loss:1.1667\t Test_Acc:67.6700\n",
            "Epoch: 9\t Train_Loss:0.6765\t Train_Acc:79.4540\t Test_Loss:1.1362\t Test_Acc:69.0200\n",
            "Epoch:10\t Train_Loss:0.6150\t Train_Acc:81.4380\t Test_Loss:1.1038\t Test_Acc:69.5900\n",
            "Epoch:11\t Train_Loss:0.5926\t Train_Acc:81.9180\t Test_Loss:1.1445\t Test_Acc:69.8800\n",
            "Epoch:12\t Train_Loss:0.5250\t Train_Acc:83.9340\t Test_Loss:1.1887\t Test_Acc:69.0500\n",
            "Epoch:13\t Train_Loss:0.4373\t Train_Acc:86.3500\t Test_Loss:1.1226\t Test_Acc:70.9400\n",
            "Epoch:14\t Train_Loss:0.4380\t Train_Acc:86.3580\t Test_Loss:1.1953\t Test_Acc:70.0200\n",
            "Epoch:15\t Train_Loss:0.2153\t Train_Acc:93.1600\t Test_Loss:1.0558\t Test_Acc:74.4400\n",
            "time: 36min 33s (started: 2022-12-05 00:20:54 +00:00)\n"
          ]
        }
      ],
      "source": [
        "train_loss  = []\n",
        "train_acc   = []\n",
        "test_loss   = []\n",
        "test_acc    = []\n",
        "epochs      = []\n",
        "epoch_value = 0\n",
        "\n",
        "# Loop for n_epochs\n",
        "for epoch in range(n_epochs):\n",
        "  # Fit model\n",
        "  fit(vgg16_model, train_dataloader, sgd_optimizer, lr_scheduler, criterion)\n",
        "\n",
        "  # Train validation\n",
        "  train_accuracy, train_lss = validate(vgg16_model, train_dataloader, criterion)\n",
        "  train_loss.append(train_lss)\n",
        "  train_acc.append(train_accuracy)\n",
        "\n",
        "  # Test validation\n",
        "  test_accuracy, test_lss = validate(vgg16_model, test_dataloader, criterion)\n",
        "  test_loss.append(test_lss)\n",
        "  test_acc.append(test_accuracy)\n",
        "\n",
        "  # Printing the epochs with Traing Loss, Train Accuracy, Test Loss and Test Accuracy\n",
        "  print(f'Epoch:{epoch+1:2.0f}\\t Train_Loss:{train_loss[-1]:.4f}\\t Train_Acc:{train_acc[-1]:.4f}\\t Test_Loss:{test_loss[-1]:.4f}\\t Test_Acc:{test_acc[-1]:.4f}')\n",
        "  epoch_value +=1\n",
        "  epochs.append(epoch_value)\n"
      ]
    },
    {
      "cell_type": "code",
      "execution_count": 22,
      "metadata": {
        "colab": {
          "base_uri": "https://localhost:8080/",
          "height": 371
        },
        "id": "LEOXNjZx29aV",
        "outputId": "c6c5a6e1-c318-493f-f305-ebdf4a08d4e2"
      },
      "outputs": [
        {
          "output_type": "stream",
          "name": "stdout",
          "text": [
            "Test Loss:  [2.857039453117711, 1.919366712782793, 1.5239803312690394, 1.4159252753682956, 1.2558196779269322, 1.1474961027218278, 1.1773527708782512, 1.166714234336926, 1.1361630050240048, 1.1037584554617572, 1.144543244200907, 1.1886587059421905, 1.1225995501135564, 1.1952567176454385, 1.0557947656151596]\n",
            "Epochs:  [1, 2, 3, 4, 5, 6, 7, 8, 9, 10, 11, 12, 13, 14, 15]\n"
          ]
        },
        {
          "output_type": "execute_result",
          "data": {
            "text/plain": [
              "Text(0.5, 0, 'Test Loss')"
            ]
          },
          "metadata": {},
          "execution_count": 22
        },
        {
          "output_type": "display_data",
          "data": {
            "text/plain": [
              "<Figure size 432x288 with 1 Axes>"
            ],
            "image/png": "[encoded data removed]"
          },
          "metadata": {
            "needs_background": "light"
          }
        },
        {
          "output_type": "stream",
          "name": "stdout",
          "text": [
            "time: 153 ms (started: 2022-12-05 00:57:28 +00:00)\n"
          ]
        }
      ],
      "source": [
        "# Plotting Epoch vs Test Loss\n",
        "print('Test Loss: ', test_loss)\n",
        "print('Epochs: ', epochs)\n",
        "\n",
        "plt.plot(test_loss, epochs)\n",
        "plt.ylabel('epochs')\n",
        "plt.xlabel('Test Loss')"
      ]
    },
    {
      "cell_type": "markdown",
      "metadata": {
        "id": "k-3zSFVjlwcS"
      },
      "source": [
        "# Save VGG16 Model"
      ]
    },
    {
      "cell_type": "code",
      "execution_count": 23,
      "metadata": {
        "colab": {
          "base_uri": "https://localhost:8080/"
        },
        "id": "TJWa4V-2NmN2",
        "outputId": "a5c17ddb-419d-4c93-8668-0f37cb8e281c"
      },
      "outputs": [
        {
          "output_type": "stream",
          "name": "stdout",
          "text": [
            "Mounted at /content/gdrive\n",
            "time: 22min 39s (started: 2022-12-05 00:57:28 +00:00)\n"
          ]
        }
      ],
      "source": [
        "# Authorizing Google Drive\n",
        "from google.colab import drive\n",
        "drive.mount('/content/gdrive')"
      ]
    },
    {
      "cell_type": "code",
      "execution_count": 24,
      "metadata": {
        "colab": {
          "base_uri": "https://localhost:8080/"
        },
        "id": "zvnigyGwdt_C",
        "outputId": "87c56777-cd1c-4a79-8047-40bc3ae8199f"
      },
      "outputs": [
        {
          "output_type": "stream",
          "name": "stdout",
          "text": [
            "time: 19.1 s (started: 2022-12-05 01:20:08 +00:00)\n"
          ]
        }
      ],
      "source": [
        "# Saving the model to Drive\n",
        "path = F\"/content/gdrive/My Drive/Colab Notebooks/VGG16(SGD)-v1.0\"\n",
        "torch.save(vgg16_model.state_dict(), path)"
      ]
    },
    {
      "cell_type": "code",
      "execution_count": 25,
      "metadata": {
        "colab": {
          "base_uri": "https://localhost:8080/"
        },
        "id": "CEAkg3NU8sLG",
        "outputId": "90ff9707-fa6c-4d52-c9c4-c46715846935"
      },
      "outputs": [
        {
          "output_type": "stream",
          "name": "stdout",
          "text": [
            "cuda\n",
            "time: 7.7 ms (started: 2022-12-05 01:20:27 +00:00)\n"
          ]
        }
      ],
      "source": [
        "# Checking the GPU\n",
        "device = torch.device('cuda' if torch.cuda.is_available() else 'cpu')\n",
        "print(device)"
      ]
    },
    {
      "cell_type": "markdown",
      "metadata": {
        "id": "kqgGbibD82sP"
      },
      "source": [
        "# Important Functions"
      ]
    },
    {
      "cell_type": "code",
      "execution_count": 26,
      "metadata": {
        "colab": {
          "base_uri": "https://localhost:8080/"
        },
        "id": "QQwrIpKDZWE6",
        "outputId": "8ccad6dc-3f17-47f2-f922-1ca9a55e7b3e"
      },
      "outputs": [
        {
          "output_type": "stream",
          "name": "stdout",
          "text": [
            "time: 1.11 ms (started: 2022-12-05 01:20:27 +00:00)\n"
          ]
        }
      ],
      "source": [
        "# Method to remove parameters\n",
        "def remove_parameters(model):\n",
        "    for module_name, module in model.named_modules():\n",
        "        if isinstance(module, torch.nn.Conv2d):\n",
        "            try:\n",
        "                prune.remove(module, \"weight\")\n",
        "            except:\n",
        "                pass\n",
        "            try:\n",
        "                prune.remove(module, \"bias\")\n",
        "            except:\n",
        "                pass\n",
        "        elif isinstance(module, torch.nn.Linear):\n",
        "            try:\n",
        "                prune.remove(module, \"weight\")\n",
        "            except:\n",
        "                pass\n",
        "            try:\n",
        "                prune.remove(module, \"bias\")\n",
        "            except:\n",
        "                pass\n",
        "    return model"
      ]
    },
    {
      "cell_type": "code",
      "execution_count": 27,
      "metadata": {
        "colab": {
          "base_uri": "https://localhost:8080/"
        },
        "id": "bSzCYD1q9TBo",
        "outputId": "c7e5e234-2099-4861-8a57-2eaf3cf76e3a"
      },
      "outputs": [
        {
          "output_type": "stream",
          "name": "stdout",
          "text": [
            "time: 984 µs (started: 2022-12-05 01:20:27 +00:00)\n"
          ]
        }
      ],
      "source": [
        "# Method for Unstructured Pruning\n",
        "def unstructured_global_pruning(model, amount):\n",
        "  pruning_model       = deepcopy(model)\n",
        "  pruning_model       = pruning_model.to(device)\n",
        "  parameters_to_prune = []\n",
        "  for module_name, module in pruning_model.named_modules():\n",
        "      if isinstance(module, torch.nn.Conv2d) or isinstance(module, torch.nn.Linear):\n",
        "          parameters_to_prune.append((module, \"weight\"))\n",
        "\n",
        "  prune.global_unstructured(\n",
        "      parameters = parameters_to_prune,\n",
        "      pruning_method = prune.L1Unstructured,\n",
        "      amount = amount)\n",
        "\n",
        "  pruning_model = remove_parameters(model = pruning_model)\n",
        "\n",
        "  return pruning_model"
      ]
    },
    {
      "cell_type": "code",
      "execution_count": 28,
      "metadata": {
        "colab": {
          "base_uri": "https://localhost:8080/"
        },
        "id": "CrG0uT0deZP5",
        "outputId": "864c05e7-12ad-4f0f-fb5e-23ef0b9c9c26"
      },
      "outputs": [
        {
          "output_type": "stream",
          "name": "stdout",
          "text": [
            "time: 1.46 ms (started: 2022-12-05 01:20:27 +00:00)\n"
          ]
        }
      ],
      "source": [
        "# Method for Structured Pruning\n",
        "def structured_pruning(model, sparsity_layer):\n",
        "  pruning_model         = deepcopy(model)\n",
        "  pruning_model         = pruning_model.to(device)\n",
        "  prunable_module_type  = (nn.Conv2d, nn.Linear)\n",
        "  prunable_modules      = [ m for m in pruning_model.modules() if isinstance(m, prunable_module_type) ]\n",
        "  strategy              = tp.strategy.L1Strategy()\n",
        "  Dependency_Graph      = tp.DependencyGraph().build_dependency(pruning_model, example_inputs = torch.randn(1,3,64,64))\n",
        "\n",
        "  i = 0\n",
        "  for layer_to_prune in prunable_modules:\n",
        "    if isinstance(layer_to_prune, nn.Conv2d):\n",
        "        prune_function = tp.prune_conv\n",
        "    elif isinstance(layer_to_prune, nn.Linear):\n",
        "        prune_function = tp.prune_linear\n",
        "    \n",
        "    pruning_idxs  = strategy(layer_to_prune.weight, amount = sparsity_layer[i])\n",
        "    plan          = Dependency_Graph.get_pruning_plan( layer_to_prune, prune_function, pruning_idxs)\n",
        "\n",
        "    i += 1\n",
        "\n",
        "    plan.exec()\n",
        "  \n",
        "  return pruning_model"
      ]
    },
    {
      "cell_type": "code",
      "execution_count": 29,
      "metadata": {
        "colab": {
          "base_uri": "https://localhost:8080/"
        },
        "id": "nbkNBCX_eR0p",
        "outputId": "5b7282eb-21c1-432b-8463-87d55b155800"
      },
      "outputs": [
        {
          "output_type": "stream",
          "name": "stdout",
          "text": [
            "time: 1.06 ms (started: 2022-12-05 01:20:27 +00:00)\n"
          ]
        }
      ],
      "source": [
        "# Method to evaluate the loss and accuracy of the model\n",
        "def evaluate(model, dataloader):\n",
        "  model.eval()\n",
        "  acc = 0\n",
        "  loss = []\n",
        "  for data, targets in dataloader:\n",
        "    data = data.to(device)\n",
        "    targets = targets.to(device)\n",
        "    out = model(data)\n",
        "    #Get loss\n",
        "    l = criterion(out, targets)\n",
        "    loss.append(l.item())\n",
        "    #Get index of class label\n",
        "    _,preds = torch.max(out.data,1)\n",
        "    #Get accuracy\n",
        "    acc += torch.sum(preds == targets).item()\n",
        "\n",
        "  return 100*acc/len(dataloader.dataset), np.mean(np.array(loss))"
      ]
    },
    {
      "cell_type": "code",
      "execution_count": 30,
      "metadata": {
        "colab": {
          "base_uri": "https://localhost:8080/"
        },
        "id": "cix42KgylY9T",
        "outputId": "618d333d-2553-42a6-f301-caf4f338003b"
      },
      "outputs": [
        {
          "output_type": "stream",
          "name": "stdout",
          "text": [
            "time: 1.48 ms (started: 2022-12-05 01:20:27 +00:00)\n"
          ]
        }
      ],
      "source": [
        "# Method to measure module sparsity\n",
        "def measure_module_sparsity(module, weight=True, bias=False, use_mask=False):\n",
        "    n_zeros = 0\n",
        "    n_elements = 0\n",
        "    if use_mask == True:\n",
        "        for buffer_name, buffer in module.named_buffers():\n",
        "            if \"weight_mask\" in buffer_name and weight == True:\n",
        "                n_zeros += torch.sum(buffer == 0).item()\n",
        "                n_elements += buffer.nelement()\n",
        "            if \"bias_mask\" in buffer_name and bias == True:\n",
        "                n_zeros += torch.sum(buffer == 0).item()\n",
        "                n_elements += buffer.nelement()\n",
        "    else:\n",
        "        for param_name, param in module.named_parameters():\n",
        "            if \"weight\" in param_name and weight == True:\n",
        "                n_zeros += torch.sum(param == 0).item()\n",
        "                n_elements += param.nelement()\n",
        "            if \"bias\" in param_name and bias == True:\n",
        "                n_zeros += torch.sum(param == 0).item()\n",
        "                n_elements += param.nelement()\n",
        "\n",
        "    sparsity = n_zeros / n_elements\n",
        "\n",
        "    return n_zeros, n_elements, sparsity"
      ]
    },
    {
      "cell_type": "code",
      "execution_count": 31,
      "metadata": {
        "colab": {
          "base_uri": "https://localhost:8080/"
        },
        "id": "t7VZof8tlUlB",
        "outputId": "85556735-916f-4073-d8e5-e58aabb205a5"
      },
      "outputs": [
        {
          "output_type": "stream",
          "name": "stdout",
          "text": [
            "time: 1.83 ms (started: 2022-12-05 01:20:27 +00:00)\n"
          ]
        }
      ],
      "source": [
        "# Method to measure Global sparsity\n",
        "def measure_global_sparsity(model,\n",
        "                            weight=True,\n",
        "                            bias=False,\n",
        "                            conv2d_use_mask=False,\n",
        "                            linear_use_mask=False):\n",
        "\n",
        "    n_zeros = 0\n",
        "    n_elements = 0\n",
        "\n",
        "    for module_name, module in model.named_modules():\n",
        "\n",
        "        if isinstance(module, torch.nn.Conv2d):\n",
        "\n",
        "            module_num_zeros, module_num_elements, _ = measure_module_sparsity(\n",
        "                module, weight=weight, bias=bias, use_mask=conv2d_use_mask)\n",
        "            n_zeros += module_num_zeros\n",
        "            n_elements += module_num_elements\n",
        "\n",
        "        elif isinstance(module, torch.nn.Linear):\n",
        "\n",
        "            module_num_zeros, module_num_elements, _ = measure_module_sparsity(\n",
        "                module, weight=weight, bias=bias, use_mask=linear_use_mask)\n",
        "            n_zeros += module_num_zeros\n",
        "            n_elements += module_num_elements\n",
        "\n",
        "    sparsity = n_zeros / n_elements\n",
        "\n",
        "    return n_zeros, n_elements, sparsity"
      ]
    },
    {
      "cell_type": "code",
      "execution_count": 32,
      "metadata": {
        "colab": {
          "base_uri": "https://localhost:8080/"
        },
        "id": "ex3br4BbzoiF",
        "outputId": "5ed8eca9-8902-46b2-9549-571c2d8560b6"
      },
      "outputs": [
        {
          "output_type": "stream",
          "name": "stdout",
          "text": [
            "time: 974 µs (started: 2022-12-05 01:20:27 +00:00)\n"
          ]
        }
      ],
      "source": [
        "# Defining a 'DataLoader' constructor, a Python iterable over a dataset\n",
        "train_dataloader = DataLoader(train_data_set, batch_size = batch_size, shuffle = True)\n",
        "test_dataloader = DataLoader(test_data_set, batch_size = batch_size)"
      ]
    },
    {
      "cell_type": "markdown",
      "metadata": {
        "id": "BnSK_srGc5sz"
      },
      "source": [
        "# Import Model to be Pruned"
      ]
    },
    {
      "cell_type": "code",
      "execution_count": 33,
      "metadata": {
        "colab": {
          "base_uri": "https://localhost:8080/"
        },
        "id": "GjAXLxMTcdds",
        "outputId": "7f99ae82-dac8-422a-d349-0245d01a15dc"
      },
      "outputs": [
        {
          "output_type": "stream",
          "name": "stderr",
          "text": [
            "/usr/local/lib/python3.8/dist-packages/torchvision/models/_utils.py:223: UserWarning: Arguments other than a weight enum or `None` for 'weights' are deprecated since 0.13 and will be removed in 0.15. The current behavior is equivalent to passing `weights=None`.\n",
            "  warnings.warn(msg)\n"
          ]
        },
        {
          "output_type": "stream",
          "name": "stdout",
          "text": [
            "time: 1.75 s (started: 2022-12-05 01:20:27 +00:00)\n"
          ]
        }
      ],
      "source": [
        "vgg16_model = models.vgg16(pretrained = False)\n",
        "vgg16_model.classifier[6].out_features = n_classes"
      ]
    },
    {
      "cell_type": "code",
      "execution_count": 34,
      "metadata": {
        "colab": {
          "base_uri": "https://localhost:8080/"
        },
        "id": "W5x4AIAdPZh7",
        "outputId": "0ac397fd-756c-47f4-c7f8-2d8e2e5a4697"
      },
      "outputs": [
        {
          "output_type": "stream",
          "name": "stdout",
          "text": [
            "Drive already mounted at /content/gdrive; to attempt to forcibly remount, call drive.mount(\"/content/gdrive\", force_remount=True).\n",
            "time: 2.54 s (started: 2022-12-05 01:20:29 +00:00)\n"
          ]
        }
      ],
      "source": [
        "from google.colab import drive\n",
        "drive.mount('/content/gdrive')"
      ]
    },
    {
      "cell_type": "code",
      "execution_count": 35,
      "metadata": {
        "colab": {
          "base_uri": "https://localhost:8080/"
        },
        "id": "4RRfINk5cFWP",
        "outputId": "3dc546b2-fda3-41b5-e215-0389072dcfdd"
      },
      "outputs": [
        {
          "output_type": "execute_result",
          "data": {
            "text/plain": [
              "<All keys matched successfully>"
            ]
          },
          "metadata": {},
          "execution_count": 35
        },
        {
          "output_type": "stream",
          "name": "stdout",
          "text": [
            "time: 912 ms (started: 2022-12-05 01:20:32 +00:00)\n"
          ]
        }
      ],
      "source": [
        "vgg16_model.load_state_dict(torch.load('/content/gdrive/My Drive/Colab Notebooks/VGG16(SGD)-v1.0'))"
      ]
    },
    {
      "cell_type": "code",
      "execution_count": 36,
      "metadata": {
        "colab": {
          "base_uri": "https://localhost:8080/"
        },
        "id": "VV9kpO1OVHvu",
        "outputId": "a579bbc2-651a-478d-8ee3-278c9552c28e"
      },
      "outputs": [
        {
          "output_type": "execute_result",
          "data": {
            "text/plain": [
              "VGG(\n",
              "  (features): Sequential(\n",
              "    (0): Conv2d(3, 64, kernel_size=(3, 3), stride=(1, 1), padding=(1, 1))\n",
              "    (1): ReLU(inplace=True)\n",
              "    (2): Conv2d(64, 64, kernel_size=(3, 3), stride=(1, 1), padding=(1, 1))\n",
              "    (3): ReLU(inplace=True)\n",
              "    (4): MaxPool2d(kernel_size=2, stride=2, padding=0, dilation=1, ceil_mode=False)\n",
              "    (5): Conv2d(64, 128, kernel_size=(3, 3), stride=(1, 1), padding=(1, 1))\n",
              "    (6): ReLU(inplace=True)\n",
              "    (7): Conv2d(128, 128, kernel_size=(3, 3), stride=(1, 1), padding=(1, 1))\n",
              "    (8): ReLU(inplace=True)\n",
              "    (9): MaxPool2d(kernel_size=2, stride=2, padding=0, dilation=1, ceil_mode=False)\n",
              "    (10): Conv2d(128, 256, kernel_size=(3, 3), stride=(1, 1), padding=(1, 1))\n",
              "    (11): ReLU(inplace=True)\n",
              "    (12): Conv2d(256, 256, kernel_size=(3, 3), stride=(1, 1), padding=(1, 1))\n",
              "    (13): ReLU(inplace=True)\n",
              "    (14): Conv2d(256, 256, kernel_size=(3, 3), stride=(1, 1), padding=(1, 1))\n",
              "    (15): ReLU(inplace=True)\n",
              "    (16): MaxPool2d(kernel_size=2, stride=2, padding=0, dilation=1, ceil_mode=False)\n",
              "    (17): Conv2d(256, 512, kernel_size=(3, 3), stride=(1, 1), padding=(1, 1))\n",
              "    (18): ReLU(inplace=True)\n",
              "    (19): Conv2d(512, 512, kernel_size=(3, 3), stride=(1, 1), padding=(1, 1))\n",
              "    (20): ReLU(inplace=True)\n",
              "    (21): Conv2d(512, 512, kernel_size=(3, 3), stride=(1, 1), padding=(1, 1))\n",
              "    (22): ReLU(inplace=True)\n",
              "    (23): MaxPool2d(kernel_size=2, stride=2, padding=0, dilation=1, ceil_mode=False)\n",
              "    (24): Conv2d(512, 512, kernel_size=(3, 3), stride=(1, 1), padding=(1, 1))\n",
              "    (25): ReLU(inplace=True)\n",
              "    (26): Conv2d(512, 512, kernel_size=(3, 3), stride=(1, 1), padding=(1, 1))\n",
              "    (27): ReLU(inplace=True)\n",
              "    (28): Conv2d(512, 512, kernel_size=(3, 3), stride=(1, 1), padding=(1, 1))\n",
              "    (29): ReLU(inplace=True)\n",
              "    (30): MaxPool2d(kernel_size=2, stride=2, padding=0, dilation=1, ceil_mode=False)\n",
              "  )\n",
              "  (avgpool): AdaptiveAvgPool2d(output_size=(7, 7))\n",
              "  (classifier): Sequential(\n",
              "    (0): Linear(in_features=25088, out_features=4096, bias=True)\n",
              "    (1): ReLU(inplace=True)\n",
              "    (2): Dropout(p=0.5, inplace=False)\n",
              "    (3): Linear(in_features=4096, out_features=4096, bias=True)\n",
              "    (4): ReLU(inplace=True)\n",
              "    (5): Dropout(p=0.5, inplace=False)\n",
              "    (6): Linear(in_features=4096, out_features=100, bias=True)\n",
              "  )\n",
              ")"
            ]
          },
          "metadata": {},
          "execution_count": 36
        },
        {
          "output_type": "stream",
          "name": "stdout",
          "text": [
            "time: 133 ms (started: 2022-12-05 01:20:33 +00:00)\n"
          ]
        }
      ],
      "source": [
        "device = torch.device(\"cuda\") if torch.cuda.is_available() else torch.device(\"cpu\")\n",
        "vgg16_model.to(device)"
      ]
    },
    {
      "cell_type": "code",
      "execution_count": 37,
      "metadata": {
        "colab": {
          "base_uri": "https://localhost:8080/"
        },
        "id": "hLt64_teaLKi",
        "outputId": "6fe060d7-954b-4291-b024-aa92f6b46430"
      },
      "outputs": [
        {
          "output_type": "execute_result",
          "data": {
            "text/plain": [
              "True"
            ]
          },
          "metadata": {},
          "execution_count": 37
        },
        {
          "output_type": "stream",
          "name": "stdout",
          "text": [
            "time: 4.34 ms (started: 2022-12-05 01:20:33 +00:00)\n"
          ]
        }
      ],
      "source": [
        "next(vgg16_model.parameters()).is_cuda"
      ]
    },
    {
      "cell_type": "code",
      "execution_count": 38,
      "metadata": {
        "colab": {
          "base_uri": "https://localhost:8080/"
        },
        "id": "UkulfarCP4q0",
        "outputId": "3e8a2fde-aa44-4dc7-82d8-feba636cb90e"
      },
      "outputs": [
        {
          "output_type": "stream",
          "name": "stdout",
          "text": [
            "Global Sparsity:\n",
            "0.00\n",
            "time: 17.6 ms (started: 2022-12-05 01:20:33 +00:00)\n"
          ]
        }
      ],
      "source": [
        "# Measuring Global Sparsity for VGG16 Model\n",
        "num_zeros, num_elements, sparsity = measure_global_sparsity(\n",
        "            vgg16_model,\n",
        "            weight=True,\n",
        "            bias=False,\n",
        "            conv2d_use_mask=False,\n",
        "            linear_use_mask=False)\n",
        "\n",
        "print(\"Global Sparsity:\")\n",
        "print(\"{:.2f}\".format(sparsity))"
      ]
    },
    {
      "cell_type": "markdown",
      "metadata": {
        "id": "r5Ed54Z8oslY"
      },
      "source": [
        "# Iterative Pruning Iteration"
      ]
    },
    {
      "cell_type": "markdown",
      "metadata": {
        "id": "q_Spz6ttbBa8"
      },
      "source": [
        "# Unstructured Pruning"
      ]
    },
    {
      "cell_type": "code",
      "execution_count": 39,
      "metadata": {
        "colab": {
          "base_uri": "https://localhost:8080/"
        },
        "id": "0Z3kdi6SiCj0",
        "outputId": "3f28ebca-9f71-42c6-9826-d3a02a1e540d"
      },
      "outputs": [
        {
          "output_type": "stream",
          "name": "stdout",
          "text": [
            "time: 365 ms (started: 2022-12-05 01:20:33 +00:00)\n"
          ]
        }
      ],
      "source": [
        "ustp_model = unstructured_global_pruning(vgg16_model, 0.8)"
      ]
    },
    {
      "cell_type": "code",
      "execution_count": 40,
      "metadata": {
        "colab": {
          "base_uri": "https://localhost:8080/"
        },
        "id": "mmWLpJeUTxms",
        "outputId": "e7231c74-35a0-4f37-d597-a930604cbb50"
      },
      "outputs": [
        {
          "output_type": "execute_result",
          "data": {
            "text/plain": [
              "True"
            ]
          },
          "metadata": {},
          "execution_count": 40
        },
        {
          "output_type": "stream",
          "name": "stdout",
          "text": [
            "time: 4.61 ms (started: 2022-12-05 01:20:33 +00:00)\n"
          ]
        }
      ],
      "source": [
        "next(ustp_model.parameters()).is_cuda"
      ]
    },
    {
      "cell_type": "code",
      "execution_count": 41,
      "metadata": {
        "colab": {
          "base_uri": "https://localhost:8080/"
        },
        "id": "cOMgxIUI58Vb",
        "outputId": "f58bbf14-6f91-420f-da0f-3c0de8973dce"
      },
      "outputs": [
        {
          "output_type": "stream",
          "name": "stdout",
          "text": [
            "Accuracy :  73.08 \tLoss :  1.1402073308920404\n",
            "time: 8.45 s (started: 2022-12-05 01:20:33 +00:00)\n"
          ]
        }
      ],
      "source": [
        "acc, loss = evaluate(ustp_model, test_dataloader)\n",
        "print('Accuracy : ',acc , '\\tLoss : ', loss)"
      ]
    },
    {
      "cell_type": "code",
      "execution_count": 42,
      "metadata": {
        "colab": {
          "base_uri": "https://localhost:8080/"
        },
        "id": "6vxBPg2xoE9c",
        "outputId": "d2aa2336-9e34-49fd-807b-7f347421b8ff"
      },
      "outputs": [
        {
          "output_type": "stream",
          "name": "stdout",
          "text": [
            "Global Sparsity:\n",
            "0.80\n",
            "time: 18.8 ms (started: 2022-12-05 01:20:42 +00:00)\n"
          ]
        }
      ],
      "source": [
        "# Measuring Global Sparsity for Unstructured Pruning Model\n",
        "num_zeros, num_elements, sparsity = measure_global_sparsity(\n",
        "            ustp_model,\n",
        "            weight  = True,\n",
        "            bias    = False,\n",
        "            conv2d_use_mask = False,\n",
        "            linear_use_mask = False)\n",
        "\n",
        "print(\"Global Sparsity:\")\n",
        "print(\"{:.2f}\".format(sparsity))"
      ]
    },
    {
      "cell_type": "code",
      "execution_count": 43,
      "metadata": {
        "colab": {
          "base_uri": "https://localhost:8080/"
        },
        "id": "6_kxpO_NYh1L",
        "outputId": "ef03183c-245b-4b52-83a0-78c2df7f34eb"
      },
      "outputs": [
        {
          "output_type": "stream",
          "name": "stdout",
          "text": [
            "Layer 0 58 1728 0.03356481481481482\n",
            "Layer 1 6069 36864 0.16463216145833334\n",
            "Layer 2 12503 73728 0.1695827907986111\n",
            "Layer 3 28989 147456 0.19659423828125\n",
            "Layer 4 67658 294912 0.22941758897569445\n",
            "Layer 5 164003 589824 0.2780541314019097\n",
            "Layer 6 159384 589824 0.2702229817708333\n",
            "Layer 7 373959 1179648 0.31700897216796875\n",
            "Layer 8 931040 2359296 0.3946261935763889\n",
            "Layer 9 937821 2359296 0.39750035603841144\n",
            "Layer 10 898921 2359296 0.38101238674587673\n",
            "Layer 11 908138 2359296 0.38491906060112846\n",
            "Layer 12 996303 2359296 0.4222882588704427\n",
            "Layer 13 93581452 102760448 0.9106757884122887\n",
            "Layer 14 10158432 16777216 0.6054897308349609\n",
            "Layer 15 1450572 4096000 0.3541435546875\n",
            "time: 54 ms (started: 2022-12-05 01:20:42 +00:00)\n"
          ]
        }
      ],
      "source": [
        "# Measuring Sparsity for each layer\n",
        "sparsity_layer = []\n",
        "i = 0\n",
        "layer = []\n",
        "for module_name, module in ustp_model.named_modules():\n",
        "  if isinstance(module, torch.nn.Conv2d) or isinstance(module, torch.nn.Linear):\n",
        "    num_zeros, num_elements, sparsity = measure_module_sparsity(module, weight=True, bias=False, use_mask=False)\n",
        "    print('Layer', i , num_zeros, num_elements, sparsity)\n",
        "    sparsity_layer.append(sparsity)\n",
        "    layer.append(i)\n",
        "    i+= 1"
      ]
    },
    {
      "cell_type": "code",
      "execution_count": 44,
      "metadata": {
        "colab": {
          "base_uri": "https://localhost:8080/",
          "height": 371
        },
        "id": "qAzducc9mzPV",
        "outputId": "5f3886c3-18ce-4f4d-a1ca-161abfa0e377"
      },
      "outputs": [
        {
          "output_type": "stream",
          "name": "stdout",
          "text": [
            "Sparsity:  [0.03356481481481482, 0.16463216145833334, 0.1695827907986111, 0.19659423828125, 0.22941758897569445, 0.2780541314019097, 0.2702229817708333, 0.31700897216796875, 0.3946261935763889, 0.39750035603841144, 0.38101238674587673, 0.38491906060112846, 0.4222882588704427, 0.9106757884122887, 0.6054897308349609, 0.3541435546875]\n",
            "Layers:  [0, 1, 2, 3, 4, 5, 6, 7, 8, 9, 10, 11, 12, 13, 14, 15]\n"
          ]
        },
        {
          "output_type": "execute_result",
          "data": {
            "text/plain": [
              "Text(0.5, 0, 'Sparsity')"
            ]
          },
          "metadata": {},
          "execution_count": 44
        },
        {
          "output_type": "display_data",
          "data": {
            "text/plain": [
              "<Figure size 432x288 with 1 Axes>"
            ],
            "image/png": "[encoded data removed]"
          },
          "metadata": {
            "needs_background": "light"
          }
        },
        {
          "output_type": "stream",
          "name": "stdout",
          "text": [
            "time: 140 ms (started: 2022-12-05 01:20:42 +00:00)\n"
          ]
        }
      ],
      "source": [
        "# Plotting Sparsity vs Layers\n",
        "print('Sparsity: ', sparsity_layer)\n",
        "print('Layers: ', layer)\n",
        "\n",
        "plt.plot(sparsity_layer, layer)\n",
        "plt.ylabel('Layers')\n",
        "plt.xlabel('Sparsity')"
      ]
    },
    {
      "cell_type": "code",
      "execution_count": 45,
      "metadata": {
        "colab": {
          "base_uri": "https://localhost:8080/"
        },
        "id": "5KhEHgru83_M",
        "outputId": "9013d6f6-a092-4575-e6c9-e70cd9580fa3"
      },
      "outputs": [
        {
          "output_type": "execute_result",
          "data": {
            "text/plain": [
              "[0.02,\n",
              " 0.15,\n",
              " 0.16,\n",
              " 0.19,\n",
              " 0.22,\n",
              " 0.27,\n",
              " 0.26,\n",
              " 0.31,\n",
              " 0.38,\n",
              " 0.39,\n",
              " 0.37,\n",
              " 0.37,\n",
              " 0.41,\n",
              " 0.9,\n",
              " 0.6,\n",
              " 0.34]"
            ]
          },
          "metadata": {},
          "execution_count": 45
        },
        {
          "output_type": "stream",
          "name": "stdout",
          "text": [
            "time: 5.21 ms (started: 2022-12-05 01:20:42 +00:00)\n"
          ]
        }
      ],
      "source": [
        "sparsity_layer = [ max(round(round(i,2)-0.01,2),0) for i in sparsity_layer]\n",
        "sparsity_layer"
      ]
    },
    {
      "cell_type": "markdown",
      "metadata": {
        "id": "K2gcgjXMW8hh"
      },
      "source": [
        "# Structured Pruning"
      ]
    },
    {
      "cell_type": "code",
      "execution_count": 46,
      "metadata": {
        "colab": {
          "base_uri": "https://localhost:8080/"
        },
        "id": "fYaA2EqEoX1B",
        "outputId": "56ce3888-b68f-4826-ec26-541fcf33e47c"
      },
      "outputs": [
        {
          "output_type": "stream",
          "name": "stdout",
          "text": [
            "time: 1.18 s (started: 2022-12-05 01:20:42 +00:00)\n"
          ]
        }
      ],
      "source": [
        "stp_model = structured_pruning(ustp_model, sparsity_layer)"
      ]
    },
    {
      "cell_type": "code",
      "execution_count": 47,
      "metadata": {
        "colab": {
          "base_uri": "https://localhost:8080/"
        },
        "id": "gUwrae7YofpJ",
        "outputId": "e0c16564-3a6d-4a71-a9a8-c586462cdfb4"
      },
      "outputs": [
        {
          "output_type": "execute_result",
          "data": {
            "text/plain": [
              "13203121"
            ]
          },
          "metadata": {},
          "execution_count": 47
        },
        {
          "output_type": "stream",
          "name": "stdout",
          "text": [
            "time: 3.63 ms (started: 2022-12-05 01:20:43 +00:00)\n"
          ]
        }
      ],
      "source": [
        "tp.utils.count_params(stp_model)"
      ]
    },
    {
      "cell_type": "code",
      "execution_count": 48,
      "metadata": {
        "colab": {
          "base_uri": "https://localhost:8080/"
        },
        "id": "XxcVZmJFokBK",
        "outputId": "d62f251b-f3c2-4edf-d51d-d00fbc6118b5"
      },
      "outputs": [
        {
          "output_type": "stream",
          "name": "stdout",
          "text": [
            "VGG(\n",
            "  (features): Sequential(\n",
            "    (0): Conv2d(3, 63, kernel_size=(3, 3), stride=(1, 1), padding=(1, 1))\n",
            "    (1): ReLU(inplace=True)\n",
            "    (2): Conv2d(63, 55, kernel_size=(3, 3), stride=(1, 1), padding=(1, 1))\n",
            "    (3): ReLU(inplace=True)\n",
            "    (4): MaxPool2d(kernel_size=2, stride=2, padding=0, dilation=1, ceil_mode=False)\n",
            "    (5): Conv2d(55, 108, kernel_size=(3, 3), stride=(1, 1), padding=(1, 1))\n",
            "    (6): ReLU(inplace=True)\n",
            "    (7): Conv2d(108, 104, kernel_size=(3, 3), stride=(1, 1), padding=(1, 1))\n",
            "    (8): ReLU(inplace=True)\n",
            "    (9): MaxPool2d(kernel_size=2, stride=2, padding=0, dilation=1, ceil_mode=False)\n",
            "    (10): Conv2d(104, 200, kernel_size=(3, 3), stride=(1, 1), padding=(1, 1))\n",
            "    (11): ReLU(inplace=True)\n",
            "    (12): Conv2d(200, 187, kernel_size=(3, 3), stride=(1, 1), padding=(1, 1))\n",
            "    (13): ReLU(inplace=True)\n",
            "    (14): Conv2d(187, 190, kernel_size=(3, 3), stride=(1, 1), padding=(1, 1))\n",
            "    (15): ReLU(inplace=True)\n",
            "    (16): MaxPool2d(kernel_size=2, stride=2, padding=0, dilation=1, ceil_mode=False)\n",
            "    (17): Conv2d(190, 354, kernel_size=(3, 3), stride=(1, 1), padding=(1, 1))\n",
            "    (18): ReLU(inplace=True)\n",
            "    (19): Conv2d(354, 318, kernel_size=(3, 3), stride=(1, 1), padding=(1, 1))\n",
            "    (20): ReLU(inplace=True)\n",
            "    (21): Conv2d(318, 313, kernel_size=(3, 3), stride=(1, 1), padding=(1, 1))\n",
            "    (22): ReLU(inplace=True)\n",
            "    (23): MaxPool2d(kernel_size=2, stride=2, padding=0, dilation=1, ceil_mode=False)\n",
            "    (24): Conv2d(313, 323, kernel_size=(3, 3), stride=(1, 1), padding=(1, 1))\n",
            "    (25): ReLU(inplace=True)\n",
            "    (26): Conv2d(323, 323, kernel_size=(3, 3), stride=(1, 1), padding=(1, 1))\n",
            "    (27): ReLU(inplace=True)\n",
            "    (28): Conv2d(323, 303, kernel_size=(3, 3), stride=(1, 1), padding=(1, 1))\n",
            "    (29): ReLU(inplace=True)\n",
            "    (30): MaxPool2d(kernel_size=2, stride=2, padding=0, dilation=1, ceil_mode=False)\n",
            "  )\n",
            "  (avgpool): AdaptiveAvgPool2d(output_size=(7, 7))\n",
            "  (classifier): Sequential(\n",
            "    (0): Linear(in_features=14847, out_features=410, bias=True)\n",
            "    (1): ReLU(inplace=True)\n",
            "    (2): Dropout(p=0.5, inplace=False)\n",
            "    (3): Linear(in_features=410, out_features=1639, bias=True)\n",
            "    (4): ReLU(inplace=True)\n",
            "    (5): Dropout(p=0.5, inplace=False)\n",
            "    (6): Linear(in_features=1639, out_features=100, bias=True)\n",
            "  )\n",
            ")\n",
            "time: 2.39 ms (started: 2022-12-05 01:20:43 +00:00)\n"
          ]
        }
      ],
      "source": [
        "stp_model.classifier[6].out_features = 100\n",
        "print(stp_model)"
      ]
    },
    {
      "cell_type": "code",
      "execution_count": 49,
      "metadata": {
        "colab": {
          "base_uri": "https://localhost:8080/"
        },
        "id": "sAlhQyh3on5p",
        "outputId": "a5e9621d-1c49-4a0e-970d-97f163c305d1"
      },
      "outputs": [
        {
          "output_type": "stream",
          "name": "stdout",
          "text": [
            "Accuracy :  7.31 \tLoss :  4.481076611075432\n",
            "time: 6.35 s (started: 2022-12-05 01:20:43 +00:00)\n"
          ]
        }
      ],
      "source": [
        "stp_model = stp_model.to(device)\n",
        "acc, loss = evaluate(stp_model, test_dataloader)\n",
        "print('Accuracy : ',acc , '\\tLoss : ', loss)"
      ]
    },
    {
      "cell_type": "markdown",
      "metadata": {
        "id": "kqd25_DdUUJf"
      },
      "source": [
        "# Fine Tuning"
      ]
    },
    {
      "cell_type": "code",
      "execution_count": 50,
      "metadata": {
        "colab": {
          "base_uri": "https://localhost:8080/"
        },
        "id": "GPQAsD5rotdo",
        "outputId": "5acc44ea-0c17-4e9b-9db3-095fbbad3a14"
      },
      "outputs": [
        {
          "output_type": "stream",
          "name": "stdout",
          "text": [
            "Epoch: 1\t Train_Loss:0.9957\t Train_Acc:70.8780\t Test_Loss:1.2546\t Test_Acc:64.4500\n",
            "Epoch: 2\t Train_Loss:0.7629\t Train_Acc:77.0660\t Test_Loss:1.1619\t Test_Acc:67.5300\n",
            "Epoch: 3\t Train_Loss:0.6876\t Train_Acc:79.2940\t Test_Loss:1.1223\t Test_Acc:68.7900\n",
            "Epoch: 4\t Train_Loss:0.5640\t Train_Acc:82.8720\t Test_Loss:1.0841\t Test_Acc:70.2300\n",
            "Epoch: 5\t Train_Loss:0.5223\t Train_Acc:84.0940\t Test_Loss:1.1100\t Test_Acc:70.8000\n",
            "Epoch: 6\t Train_Loss:0.4739\t Train_Acc:85.3360\t Test_Loss:1.1000\t Test_Acc:71.4100\n",
            "Epoch: 7\t Train_Loss:0.4191\t Train_Acc:87.2720\t Test_Loss:1.1073\t Test_Acc:71.2300\n",
            "Epoch: 8\t Train_Loss:0.3987\t Train_Acc:87.7800\t Test_Loss:1.1156\t Test_Acc:71.5300\n",
            "Epoch: 9\t Train_Loss:0.3735\t Train_Acc:88.5720\t Test_Loss:1.1551\t Test_Acc:71.4700\n",
            "Epoch:10\t Train_Loss:0.3452\t Train_Acc:89.3780\t Test_Loss:1.1510\t Test_Acc:71.7200\n",
            "time: 16min 40s (started: 2022-12-05 01:20:49 +00:00)\n"
          ]
        }
      ],
      "source": [
        "sgd_optimizer = torch.optim.SGD(stp_model.parameters(), lr = 0.001, momentum = 0.9)\n",
        "epochs = 10\n",
        "\n",
        "for epoch in range(epochs):\n",
        "  #Fit model\n",
        "  fit(stp_model, train_dataloader, sgd_optimizer, None, criterion)\n",
        "\n",
        "  #Train validation\n",
        "  trn_acc, trn_lss = evaluate(stp_model, train_dataloader)\n",
        "\n",
        "  #Test validation\n",
        "  tst_acc, tst_lss = evaluate(stp_model, test_dataloader)\n",
        "\n",
        "  print(f'Epoch:{epoch+1:2.0f}\\t Train_Loss:{trn_lss:.4f}\\t Train_Acc:{trn_acc:.4f}\\t Test_Loss:{tst_lss:.4f}\\t Test_Acc:{tst_acc:.4f}')"
      ]
    },
    {
      "cell_type": "code",
      "execution_count": 51,
      "metadata": {
        "colab": {
          "base_uri": "https://localhost:8080/"
        },
        "id": "s1JUwJiDuxmr",
        "outputId": "0bf0386e-c8f4-468d-ac96-b0e07a4c9d8c"
      },
      "outputs": [
        {
          "output_type": "stream",
          "name": "stdout",
          "text": [
            "Epoch:11\t Train_Loss:0.2453\t Train_Acc:92.3160\t Test_Loss:1.1573\t Test_Acc:73.8100\n",
            "Epoch:12\t Train_Loss:0.2351\t Train_Acc:92.5600\t Test_Loss:1.1430\t Test_Acc:73.7300\n",
            "Epoch:13\t Train_Loss:0.2174\t Train_Acc:93.1960\t Test_Loss:1.1557\t Test_Acc:73.6300\n",
            "Epoch:14\t Train_Loss:0.2114\t Train_Acc:93.3840\t Test_Loss:1.1685\t Test_Acc:73.8200\n",
            "Epoch:15\t Train_Loss:0.2079\t Train_Acc:93.5020\t Test_Loss:1.1820\t Test_Acc:73.9200\n",
            "time: 8min 22s (started: 2022-12-05 01:37:30 +00:00)\n"
          ]
        }
      ],
      "source": [
        "sgd_optimizer = torch.optim.SGD(stp_model.parameters(), lr = 0.0001, momentum = 0.9)\n",
        "epochs = 5\n",
        "\n",
        "for epoch in range(epochs):\n",
        "  #Fit model\n",
        "  fit(stp_model, train_dataloader, sgd_optimizer, None, criterion)\n",
        "\n",
        "  #Train validation\n",
        "  trn_acc, trn_lss = evaluate(stp_model, train_dataloader)\n",
        "\n",
        "  #Test validation\n",
        "  tst_acc, tst_lss = evaluate(stp_model, test_dataloader)\n",
        "\n",
        "  print(f'Epoch:{epoch+11:2.0f}\\t Train_Loss:{trn_lss:.4f}\\t Train_Acc:{trn_acc:.4f}\\t Test_Loss:{tst_lss:.4f}\\t Test_Acc:{tst_acc:.4f}')"
      ]
    },
    {
      "cell_type": "code",
      "execution_count": 52,
      "metadata": {
        "id": "z91J0U0_uvLo",
        "colab": {
          "base_uri": "https://localhost:8080/"
        },
        "outputId": "950488e9-3fcc-480d-f93c-5f42e16d3979"
      },
      "outputs": [
        {
          "output_type": "stream",
          "name": "stdout",
          "text": [
            "Epoch:16\t Train_Loss:0.2005\t Train_Acc:93.6960\t Test_Loss:1.1762\t Test_Acc:74.0800\n",
            "Epoch:17\t Train_Loss:0.2025\t Train_Acc:93.5620\t Test_Loss:1.1814\t Test_Acc:74.0900\n",
            "Epoch:18\t Train_Loss:0.1987\t Train_Acc:93.6260\t Test_Loss:1.1791\t Test_Acc:74.0600\n",
            "Epoch:19\t Train_Loss:0.1970\t Train_Acc:93.7560\t Test_Loss:1.1829\t Test_Acc:74.1200\n",
            "Epoch:20\t Train_Loss:0.1993\t Train_Acc:93.7700\t Test_Loss:1.1856\t Test_Acc:74.1500\n",
            "time: 8min 23s (started: 2022-12-05 01:45:53 +00:00)\n"
          ]
        }
      ],
      "source": [
        "sgd_optimizer = torch.optim.SGD(stp_model.parameters(), lr = 0.00001, momentum = 0.9)\n",
        "epochs = 5\n",
        "\n",
        "for epoch in range(epochs):\n",
        "  #Fit model\n",
        "  fit(stp_model, train_dataloader, sgd_optimizer, None , criterion)\n",
        "\n",
        "  #Train validation\n",
        "  trn_acc, trn_lss = evaluate(stp_model, train_dataloader)\n",
        "\n",
        "  #Test validation\n",
        "  tst_acc, tst_lss = evaluate(stp_model, test_dataloader)\n",
        "\n",
        "  print(f'Epoch:{epoch+16:2.0f}\\t Train_Loss:{trn_lss:.4f}\\t Train_Acc:{trn_acc:.4f}\\t Test_Loss:{tst_lss:.4f}\\t Test_Acc:{tst_acc:.4f}')"
      ]
    },
    {
      "cell_type": "code",
      "execution_count": 53,
      "metadata": {
        "id": "YyLP223u34x8",
        "colab": {
          "base_uri": "https://localhost:8080/"
        },
        "outputId": "e9cc9866-e6ce-4a14-fc0e-afe6e7185f8a"
      },
      "outputs": [
        {
          "output_type": "stream",
          "name": "stdout",
          "text": [
            "Accuracy :  74.15 \tLoss :  1.185583380756864\n",
            "time: 5.78 s (started: 2022-12-05 01:54:16 +00:00)\n"
          ]
        }
      ],
      "source": [
        "acc, loss = evaluate(stp_model, test_dataloader)\n",
        "print('Accuracy : ',acc , '\\tLoss : ', loss)"
      ]
    },
    {
      "cell_type": "code",
      "execution_count": 54,
      "metadata": {
        "id": "24SH-v7b4VCN",
        "colab": {
          "base_uri": "https://localhost:8080/"
        },
        "outputId": "110162c3-0553-4c6c-a5ec-79d4a6d9475c"
      },
      "outputs": [
        {
          "output_type": "stream",
          "name": "stdout",
          "text": [
            "time: 94.4 ms (started: 2022-12-05 01:54:22 +00:00)\n"
          ]
        }
      ],
      "source": [
        "torch.save(stp_model, 'pruned_model.pt')"
      ]
    },
    {
      "cell_type": "code",
      "execution_count": 55,
      "metadata": {
        "id": "9xrfgfpC5x-C",
        "colab": {
          "base_uri": "https://localhost:8080/"
        },
        "outputId": "474aca7a-8631-4c83-dea6-c25a2538543a"
      },
      "outputs": [
        {
          "output_type": "execute_result",
          "data": {
            "text/plain": [
              "64"
            ]
          },
          "metadata": {},
          "execution_count": 55
        },
        {
          "output_type": "stream",
          "name": "stdout",
          "text": [
            "time: 7 ms (started: 2022-12-05 01:54:22 +00:00)\n"
          ]
        }
      ],
      "source": [
        "import sys\n",
        "sys.getsizeof('pruned_model.pt')"
      ]
    },
    {
      "cell_type": "code",
      "execution_count": 56,
      "metadata": {
        "id": "OqUJ6DZ060VV",
        "colab": {
          "base_uri": "https://localhost:8080/"
        },
        "outputId": "52ccac1d-cc88-486f-dfab-e778439056f0"
      },
      "outputs": [
        {
          "output_type": "stream",
          "name": "stdout",
          "text": [
            "Pruned Model Size is : 50.38281726837158 mb\n",
            "time: 1.16 ms (started: 2022-12-05 01:54:22 +00:00)\n"
          ]
        }
      ],
      "source": [
        "import os\n",
        "pruned_model_size = os.path.getsize('pruned_model.pt')\n",
        "print(\"Pruned Model Size is :\", pruned_model_size/(1024*1024), \"mb\")"
      ]
    },
    {
      "cell_type": "code",
      "execution_count": 57,
      "metadata": {
        "id": "9cqF9oYm7zN8",
        "colab": {
          "base_uri": "https://localhost:8080/"
        },
        "outputId": "42b4f291-a0c1-48d6-dd90-68f2854d220e"
      },
      "outputs": [
        {
          "output_type": "stream",
          "name": "stdout",
          "text": [
            "Original VGG16 Model Size is : 527.8022508621216 mb\n",
            "time: 3.02 ms (started: 2022-12-05 01:54:22 +00:00)\n"
          ]
        }
      ],
      "source": [
        "original_model_size = os.path.getsize('/content/gdrive/My Drive/Colab Notebooks/VGG16(SGD)-v1.0')\n",
        "print(\"Original VGG16 Model Size is :\", original_model_size/(1024*1024), \"mb\")"
      ]
    },
    {
      "cell_type": "code",
      "execution_count": 58,
      "metadata": {
        "id": "iyJQM_fpi4Hh",
        "colab": {
          "base_uri": "https://localhost:8080/"
        },
        "outputId": "1cc95581-604e-46fb-9603-8ff9a9ceed79"
      },
      "outputs": [
        {
          "output_type": "stream",
          "name": "stdout",
          "text": [
            "VGG(\n",
            "  (features): Sequential(\n",
            "    (0): Conv2d(3, 63, kernel_size=(3, 3), stride=(1, 1), padding=(1, 1))\n",
            "    (1): ReLU(inplace=True)\n",
            "    (2): Conv2d(63, 55, kernel_size=(3, 3), stride=(1, 1), padding=(1, 1))\n",
            "    (3): ReLU(inplace=True)\n",
            "    (4): MaxPool2d(kernel_size=2, stride=2, padding=0, dilation=1, ceil_mode=False)\n",
            "    (5): Conv2d(55, 108, kernel_size=(3, 3), stride=(1, 1), padding=(1, 1))\n",
            "    (6): ReLU(inplace=True)\n",
            "    (7): Conv2d(108, 104, kernel_size=(3, 3), stride=(1, 1), padding=(1, 1))\n",
            "    (8): ReLU(inplace=True)\n",
            "    (9): MaxPool2d(kernel_size=2, stride=2, padding=0, dilation=1, ceil_mode=False)\n",
            "    (10): Conv2d(104, 200, kernel_size=(3, 3), stride=(1, 1), padding=(1, 1))\n",
            "    (11): ReLU(inplace=True)\n",
            "    (12): Conv2d(200, 187, kernel_size=(3, 3), stride=(1, 1), padding=(1, 1))\n",
            "    (13): ReLU(inplace=True)\n",
            "    (14): Conv2d(187, 190, kernel_size=(3, 3), stride=(1, 1), padding=(1, 1))\n",
            "    (15): ReLU(inplace=True)\n",
            "    (16): MaxPool2d(kernel_size=2, stride=2, padding=0, dilation=1, ceil_mode=False)\n",
            "    (17): Conv2d(190, 354, kernel_size=(3, 3), stride=(1, 1), padding=(1, 1))\n",
            "    (18): ReLU(inplace=True)\n",
            "    (19): Conv2d(354, 318, kernel_size=(3, 3), stride=(1, 1), padding=(1, 1))\n",
            "    (20): ReLU(inplace=True)\n",
            "    (21): Conv2d(318, 313, kernel_size=(3, 3), stride=(1, 1), padding=(1, 1))\n",
            "    (22): ReLU(inplace=True)\n",
            "    (23): MaxPool2d(kernel_size=2, stride=2, padding=0, dilation=1, ceil_mode=False)\n",
            "    (24): Conv2d(313, 323, kernel_size=(3, 3), stride=(1, 1), padding=(1, 1))\n",
            "    (25): ReLU(inplace=True)\n",
            "    (26): Conv2d(323, 323, kernel_size=(3, 3), stride=(1, 1), padding=(1, 1))\n",
            "    (27): ReLU(inplace=True)\n",
            "    (28): Conv2d(323, 303, kernel_size=(3, 3), stride=(1, 1), padding=(1, 1))\n",
            "    (29): ReLU(inplace=True)\n",
            "    (30): MaxPool2d(kernel_size=2, stride=2, padding=0, dilation=1, ceil_mode=False)\n",
            "  )\n",
            "  (avgpool): AdaptiveAvgPool2d(output_size=(7, 7))\n",
            "  (classifier): Sequential(\n",
            "    (0): Linear(in_features=14847, out_features=410, bias=True)\n",
            "    (1): ReLU(inplace=True)\n",
            "    (2): Dropout(p=0.5, inplace=False)\n",
            "    (3): Linear(in_features=410, out_features=1639, bias=True)\n",
            "    (4): ReLU(inplace=True)\n",
            "    (5): Dropout(p=0.5, inplace=False)\n",
            "    (6): Linear(in_features=1639, out_features=100, bias=True)\n",
            "  )\n",
            ")\n",
            "time: 972 µs (started: 2022-12-05 01:54:22 +00:00)\n"
          ]
        }
      ],
      "source": [
        "print(stp_model)"
      ]
    }
  ],
  "metadata": {
    "accelerator": "GPU",
    "colab": {
      "provenance": []
    },
    "kernelspec": {
      "display_name": "Python 3",
      "language": "python",
      "name": "python3"
    },
    "language_info": {
      "codemirror_mode": {
        "name": "ipython",
        "version": 3
      },
      "file_extension": ".py",
      "mimetype": "text/x-python",
      "name": "python",
      "nbconvert_exporter": "python",
      "pygments_lexer": "ipython3",
      "version": "3.8.6"
    },
    "widgets": {
      "application/vnd.jupyter.widget-state+json": {
        "34d38957ae3845cc961baca2ee3b11b6": {
          "model_module": "@jupyter-widgets/controls",
          "model_name": "HBoxModel",
          "model_module_version": "1.5.0",
          "state": {
            "_dom_classes": [],
            "_model_module": "@jupyter-widgets/controls",
            "_model_module_version": "1.5.0",
            "_model_name": "HBoxModel",
            "_view_count": null,
            "_view_module": "@jupyter-widgets/controls",
            "_view_module_version": "1.5.0",
            "_view_name": "HBoxView",
            "box_style": "",
            "children": [
              "IPY_MODEL_43db0fc915e84149a09fba50d6e77bdf",
              "IPY_MODEL_094555e90c8944899a9a8ddd4096efce",
              "IPY_MODEL_77ebd6c5c752401db2cf074fc309ee4f"
            ],
            "layout": "IPY_MODEL_71d23318667d4786984d4e4ceb0b7c3c"
          }
        },
        "43db0fc915e84149a09fba50d6e77bdf": {
          "model_module": "@jupyter-widgets/controls",
          "model_name": "HTMLModel",
          "model_module_version": "1.5.0",
          "state": {
            "_dom_classes": [],
            "_model_module": "@jupyter-widgets/controls",
            "_model_module_version": "1.5.0",
            "_model_name": "HTMLModel",
            "_view_count": null,
            "_view_module": "@jupyter-widgets/controls",
            "_view_module_version": "1.5.0",
            "_view_name": "HTMLView",
            "description": "",
            "description_tooltip": null,
            "layout": "IPY_MODEL_c8afa359afea466f9d31bfc8e4074ec2",
            "placeholder": "​",
            "style": "IPY_MODEL_8db06641fc2c4fd196be535f5ce0562a",
            "value": "100%"
          }
        },
        "094555e90c8944899a9a8ddd4096efce": {
          "model_module": "@jupyter-widgets/controls",
          "model_name": "FloatProgressModel",
          "model_module_version": "1.5.0",
          "state": {
            "_dom_classes": [],
            "_model_module": "@jupyter-widgets/controls",
            "_model_module_version": "1.5.0",
            "_model_name": "FloatProgressModel",
            "_view_count": null,
            "_view_module": "@jupyter-widgets/controls",
            "_view_module_version": "1.5.0",
            "_view_name": "ProgressView",
            "bar_style": "success",
            "description": "",
            "description_tooltip": null,
            "layout": "IPY_MODEL_4837d575088e456d8f8fab0b5fa0a097",
            "max": 169001437,
            "min": 0,
            "orientation": "horizontal",
            "style": "IPY_MODEL_aae67006983449f7ab1de2f098cf4bad",
            "value": 169001437
          }
        },
        "77ebd6c5c752401db2cf074fc309ee4f": {
          "model_module": "@jupyter-widgets/controls",
          "model_name": "HTMLModel",
          "model_module_version": "1.5.0",
          "state": {
            "_dom_classes": [],
            "_model_module": "@jupyter-widgets/controls",
            "_model_module_version": "1.5.0",
            "_model_name": "HTMLModel",
            "_view_count": null,
            "_view_module": "@jupyter-widgets/controls",
            "_view_module_version": "1.5.0",
            "_view_name": "HTMLView",
            "description": "",
            "description_tooltip": null,
            "layout": "IPY_MODEL_05315c7ac1f849f29ee6e7c4ebe2abba",
            "placeholder": "​",
            "style": "IPY_MODEL_613c9f8362e541f5b649c22b52936cc7",
            "value": " 169001437/169001437 [00:13&lt;00:00, 12965031.45it/s]"
          }
        },
        "71d23318667d4786984d4e4ceb0b7c3c": {
          "model_module": "@jupyter-widgets/base",
          "model_name": "LayoutModel",
          "model_module_version": "1.2.0",
          "state": {
            "_model_module": "@jupyter-widgets/base",
            "_model_module_version": "1.2.0",
            "_model_name": "LayoutModel",
            "_view_count": null,
            "_view_module": "@jupyter-widgets/base",
            "_view_module_version": "1.2.0",
            "_view_name": "LayoutView",
            "align_content": null,
            "align_items": null,
            "align_self": null,
            "border": null,
            "bottom": null,
            "display": null,
            "flex": null,
            "flex_flow": null,
            "grid_area": null,
            "grid_auto_columns": null,
            "grid_auto_flow": null,
            "grid_auto_rows": null,
            "grid_column": null,
            "grid_gap": null,
            "grid_row": null,
            "grid_template_areas": null,
            "grid_template_columns": null,
            "grid_template_rows": null,
            "height": null,
            "justify_content": null,
            "justify_items": null,
            "left": null,
            "margin": null,
            "max_height": null,
            "max_width": null,
            "min_height": null,
            "min_width": null,
            "object_fit": null,
            "object_position": null,
            "order": null,
            "overflow": null,
            "overflow_x": null,
            "overflow_y": null,
            "padding": null,
            "right": null,
            "top": null,
            "visibility": null,
            "width": null
          }
        },
        "c8afa359afea466f9d31bfc8e4074ec2": {
          "model_module": "@jupyter-widgets/base",
          "model_name": "LayoutModel",
          "model_module_version": "1.2.0",
          "state": {
            "_model_module": "@jupyter-widgets/base",
            "_model_module_version": "1.2.0",
            "_model_name": "LayoutModel",
            "_view_count": null,
            "_view_module": "@jupyter-widgets/base",
            "_view_module_version": "1.2.0",
            "_view_name": "LayoutView",
            "align_content": null,
            "align_items": null,
            "align_self": null,
            "border": null,
            "bottom": null,
            "display": null,
            "flex": null,
            "flex_flow": null,
            "grid_area": null,
            "grid_auto_columns": null,
            "grid_auto_flow": null,
            "grid_auto_rows": null,
            "grid_column": null,
            "grid_gap": null,
            "grid_row": null,
            "grid_template_areas": null,
            "grid_template_columns": null,
            "grid_template_rows": null,
            "height": null,
            "justify_content": null,
            "justify_items": null,
            "left": null,
            "margin": null,
            "max_height": null,
            "max_width": null,
            "min_height": null,
            "min_width": null,
            "object_fit": null,
            "object_position": null,
            "order": null,
            "overflow": null,
            "overflow_x": null,
            "overflow_y": null,
            "padding": null,
            "right": null,
            "top": null,
            "visibility": null,
            "width": null
          }
        },
        "8db06641fc2c4fd196be535f5ce0562a": {
          "model_module": "@jupyter-widgets/controls",
          "model_name": "DescriptionStyleModel",
          "model_module_version": "1.5.0",
          "state": {
            "_model_module": "@jupyter-widgets/controls",
            "_model_module_version": "1.5.0",
            "_model_name": "DescriptionStyleModel",
            "_view_count": null,
            "_view_module": "@jupyter-widgets/base",
            "_view_module_version": "1.2.0",
            "_view_name": "StyleView",
            "description_width": ""
          }
        },
        "4837d575088e456d8f8fab0b5fa0a097": {
          "model_module": "@jupyter-widgets/base",
          "model_name": "LayoutModel",
          "model_module_version": "1.2.0",
          "state": {
            "_model_module": "@jupyter-widgets/base",
            "_model_module_version": "1.2.0",
            "_model_name": "LayoutModel",
            "_view_count": null,
            "_view_module": "@jupyter-widgets/base",
            "_view_module_version": "1.2.0",
            "_view_name": "LayoutView",
            "align_content": null,
            "align_items": null,
            "align_self": null,
            "border": null,
            "bottom": null,
            "display": null,
            "flex": null,
            "flex_flow": null,
            "grid_area": null,
            "grid_auto_columns": null,
            "grid_auto_flow": null,
            "grid_auto_rows": null,
            "grid_column": null,
            "grid_gap": null,
            "grid_row": null,
            "grid_template_areas": null,
            "grid_template_columns": null,
            "grid_template_rows": null,
            "height": null,
            "justify_content": null,
            "justify_items": null,
            "left": null,
            "margin": null,
            "max_height": null,
            "max_width": null,
            "min_height": null,
            "min_width": null,
            "object_fit": null,
            "object_position": null,
            "order": null,
            "overflow": null,
            "overflow_x": null,
            "overflow_y": null,
            "padding": null,
            "right": null,
            "top": null,
            "visibility": null,
            "width": null
          }
        },
        "aae67006983449f7ab1de2f098cf4bad": {
          "model_module": "@jupyter-widgets/controls",
          "model_name": "ProgressStyleModel",
          "model_module_version": "1.5.0",
          "state": {
            "_model_module": "@jupyter-widgets/controls",
            "_model_module_version": "1.5.0",
            "_model_name": "ProgressStyleModel",
            "_view_count": null,
            "_view_module": "@jupyter-widgets/base",
            "_view_module_version": "1.2.0",
            "_view_name": "StyleView",
            "bar_color": null,
            "description_width": ""
          }
        },
        "05315c7ac1f849f29ee6e7c4ebe2abba": {
          "model_module": "@jupyter-widgets/base",
          "model_name": "LayoutModel",
          "model_module_version": "1.2.0",
          "state": {
            "_model_module": "@jupyter-widgets/base",
            "_model_module_version": "1.2.0",
            "_model_name": "LayoutModel",
            "_view_count": null,
            "_view_module": "@jupyter-widgets/base",
            "_view_module_version": "1.2.0",
            "_view_name": "LayoutView",
            "align_content": null,
            "align_items": null,
            "align_self": null,
            "border": null,
            "bottom": null,
            "display": null,
            "flex": null,
            "flex_flow": null,
            "grid_area": null,
            "grid_auto_columns": null,
            "grid_auto_flow": null,
            "grid_auto_rows": null,
            "grid_column": null,
            "grid_gap": null,
            "grid_row": null,
            "grid_template_areas": null,
            "grid_template_columns": null,
            "grid_template_rows": null,
            "height": null,
            "justify_content": null,
            "justify_items": null,
            "left": null,
            "margin": null,
            "max_height": null,
            "max_width": null,
            "min_height": null,
            "min_width": null,
            "object_fit": null,
            "object_position": null,
            "order": null,
            "overflow": null,
            "overflow_x": null,
            "overflow_y": null,
            "padding": null,
            "right": null,
            "top": null,
            "visibility": null,
            "width": null
          }
        },
        "613c9f8362e541f5b649c22b52936cc7": {
          "model_module": "@jupyter-widgets/controls",
          "model_name": "DescriptionStyleModel",
          "model_module_version": "1.5.0",
          "state": {
            "_model_module": "@jupyter-widgets/controls",
            "_model_module_version": "1.5.0",
            "_model_name": "DescriptionStyleModel",
            "_view_count": null,
            "_view_module": "@jupyter-widgets/base",
            "_view_module_version": "1.2.0",
            "_view_name": "StyleView",
            "description_width": ""
          }
        },
        "6c15cc201c134804afc9919d01002b9b": {
          "model_module": "@jupyter-widgets/controls",
          "model_name": "HBoxModel",
          "model_module_version": "1.5.0",
          "state": {
            "_dom_classes": [],
            "_model_module": "@jupyter-widgets/controls",
            "_model_module_version": "1.5.0",
            "_model_name": "HBoxModel",
            "_view_count": null,
            "_view_module": "@jupyter-widgets/controls",
            "_view_module_version": "1.5.0",
            "_view_name": "HBoxView",
            "box_style": "",
            "children": [
              "IPY_MODEL_d70e324bba5c41d7bdece666cd0eee28",
              "IPY_MODEL_63d371c884f74b82b1a4ff751cdd6f43",
              "IPY_MODEL_f5f75a4373bf45ecb8bfb5be938a6033"
            ],
            "layout": "IPY_MODEL_576bb6776b1a43d2a94293689e8f59c7"
          }
        },
        "d70e324bba5c41d7bdece666cd0eee28": {
          "model_module": "@jupyter-widgets/controls",
          "model_name": "HTMLModel",
          "model_module_version": "1.5.0",
          "state": {
            "_dom_classes": [],
            "_model_module": "@jupyter-widgets/controls",
            "_model_module_version": "1.5.0",
            "_model_name": "HTMLModel",
            "_view_count": null,
            "_view_module": "@jupyter-widgets/controls",
            "_view_module_version": "1.5.0",
            "_view_name": "HTMLView",
            "description": "",
            "description_tooltip": null,
            "layout": "IPY_MODEL_b346fa80b4154c608e63ba7d867bf451",
            "placeholder": "​",
            "style": "IPY_MODEL_ab24a5eadb22499f89a472d9625437e1",
            "value": "100%"
          }
        },
        "63d371c884f74b82b1a4ff751cdd6f43": {
          "model_module": "@jupyter-widgets/controls",
          "model_name": "FloatProgressModel",
          "model_module_version": "1.5.0",
          "state": {
            "_dom_classes": [],
            "_model_module": "@jupyter-widgets/controls",
            "_model_module_version": "1.5.0",
            "_model_name": "FloatProgressModel",
            "_view_count": null,
            "_view_module": "@jupyter-widgets/controls",
            "_view_module_version": "1.5.0",
            "_view_name": "ProgressView",
            "bar_style": "success",
            "description": "",
            "description_tooltip": null,
            "layout": "IPY_MODEL_5336768bf8684dedb66b61299bcef760",
            "max": 553433881,
            "min": 0,
            "orientation": "horizontal",
            "style": "IPY_MODEL_ad9ff2b3c6504656891f42f89fa10f74",
            "value": 553433881
          }
        },
        "f5f75a4373bf45ecb8bfb5be938a6033": {
          "model_module": "@jupyter-widgets/controls",
          "model_name": "HTMLModel",
          "model_module_version": "1.5.0",
          "state": {
            "_dom_classes": [],
            "_model_module": "@jupyter-widgets/controls",
            "_model_module_version": "1.5.0",
            "_model_name": "HTMLModel",
            "_view_count": null,
            "_view_module": "@jupyter-widgets/controls",
            "_view_module_version": "1.5.0",
            "_view_name": "HTMLView",
            "description": "",
            "description_tooltip": null,
            "layout": "IPY_MODEL_d00343b3f5264c8183375ac98743ad72",
            "placeholder": "​",
            "style": "IPY_MODEL_9915494b9ece4488a6c35cd3c0f7708f",
            "value": " 528M/528M [00:02&lt;00:00, 267MB/s]"
          }
        },
        "576bb6776b1a43d2a94293689e8f59c7": {
          "model_module": "@jupyter-widgets/base",
          "model_name": "LayoutModel",
          "model_module_version": "1.2.0",
          "state": {
            "_model_module": "@jupyter-widgets/base",
            "_model_module_version": "1.2.0",
            "_model_name": "LayoutModel",
            "_view_count": null,
            "_view_module": "@jupyter-widgets/base",
            "_view_module_version": "1.2.0",
            "_view_name": "LayoutView",
            "align_content": null,
            "align_items": null,
            "align_self": null,
            "border": null,
            "bottom": null,
            "display": null,
            "flex": null,
            "flex_flow": null,
            "grid_area": null,
            "grid_auto_columns": null,
            "grid_auto_flow": null,
            "grid_auto_rows": null,
            "grid_column": null,
            "grid_gap": null,
            "grid_row": null,
            "grid_template_areas": null,
            "grid_template_columns": null,
            "grid_template_rows": null,
            "height": null,
            "justify_content": null,
            "justify_items": null,
            "left": null,
            "margin": null,
            "max_height": null,
            "max_width": null,
            "min_height": null,
            "min_width": null,
            "object_fit": null,
            "object_position": null,
            "order": null,
            "overflow": null,
            "overflow_x": null,
            "overflow_y": null,
            "padding": null,
            "right": null,
            "top": null,
            "visibility": null,
            "width": null
          }
        },
        "b346fa80b4154c608e63ba7d867bf451": {
          "model_module": "@jupyter-widgets/base",
          "model_name": "LayoutModel",
          "model_module_version": "1.2.0",
          "state": {
            "_model_module": "@jupyter-widgets/base",
            "_model_module_version": "1.2.0",
            "_model_name": "LayoutModel",
            "_view_count": null,
            "_view_module": "@jupyter-widgets/base",
            "_view_module_version": "1.2.0",
            "_view_name": "LayoutView",
            "align_content": null,
            "align_items": null,
            "align_self": null,
            "border": null,
            "bottom": null,
            "display": null,
            "flex": null,
            "flex_flow": null,
            "grid_area": null,
            "grid_auto_columns": null,
            "grid_auto_flow": null,
            "grid_auto_rows": null,
            "grid_column": null,
            "grid_gap": null,
            "grid_row": null,
            "grid_template_areas": null,
            "grid_template_columns": null,
            "grid_template_rows": null,
            "height": null,
            "justify_content": null,
            "justify_items": null,
            "left": null,
            "margin": null,
            "max_height": null,
            "max_width": null,
            "min_height": null,
            "min_width": null,
            "object_fit": null,
            "object_position": null,
            "order": null,
            "overflow": null,
            "overflow_x": null,
            "overflow_y": null,
            "padding": null,
            "right": null,
            "top": null,
            "visibility": null,
            "width": null
          }
        },
        "ab24a5eadb22499f89a472d9625437e1": {
          "model_module": "@jupyter-widgets/controls",
          "model_name": "DescriptionStyleModel",
          "model_module_version": "1.5.0",
          "state": {
            "_model_module": "@jupyter-widgets/controls",
            "_model_module_version": "1.5.0",
            "_model_name": "DescriptionStyleModel",
            "_view_count": null,
            "_view_module": "@jupyter-widgets/base",
            "_view_module_version": "1.2.0",
            "_view_name": "StyleView",
            "description_width": ""
          }
        },
        "5336768bf8684dedb66b61299bcef760": {
          "model_module": "@jupyter-widgets/base",
          "model_name": "LayoutModel",
          "model_module_version": "1.2.0",
          "state": {
            "_model_module": "@jupyter-widgets/base",
            "_model_module_version": "1.2.0",
            "_model_name": "LayoutModel",
            "_view_count": null,
            "_view_module": "@jupyter-widgets/base",
            "_view_module_version": "1.2.0",
            "_view_name": "LayoutView",
            "align_content": null,
            "align_items": null,
            "align_self": null,
            "border": null,
            "bottom": null,
            "display": null,
            "flex": null,
            "flex_flow": null,
            "grid_area": null,
            "grid_auto_columns": null,
            "grid_auto_flow": null,
            "grid_auto_rows": null,
            "grid_column": null,
            "grid_gap": null,
            "grid_row": null,
            "grid_template_areas": null,
            "grid_template_columns": null,
            "grid_template_rows": null,
            "height": null,
            "justify_content": null,
            "justify_items": null,
            "left": null,
            "margin": null,
            "max_height": null,
            "max_width": null,
            "min_height": null,
            "min_width": null,
            "object_fit": null,
            "object_position": null,
            "order": null,
            "overflow": null,
            "overflow_x": null,
            "overflow_y": null,
            "padding": null,
            "right": null,
            "top": null,
            "visibility": null,
            "width": null
          }
        },
        "ad9ff2b3c6504656891f42f89fa10f74": {
          "model_module": "@jupyter-widgets/controls",
          "model_name": "ProgressStyleModel",
          "model_module_version": "1.5.0",
          "state": {
            "_model_module": "@jupyter-widgets/controls",
            "_model_module_version": "1.5.0",
            "_model_name": "ProgressStyleModel",
            "_view_count": null,
            "_view_module": "@jupyter-widgets/base",
            "_view_module_version": "1.2.0",
            "_view_name": "StyleView",
            "bar_color": null,
            "description_width": ""
          }
        },
        "d00343b3f5264c8183375ac98743ad72": {
          "model_module": "@jupyter-widgets/base",
          "model_name": "LayoutModel",
          "model_module_version": "1.2.0",
          "state": {
            "_model_module": "@jupyter-widgets/base",
            "_model_module_version": "1.2.0",
            "_model_name": "LayoutModel",
            "_view_count": null,
            "_view_module": "@jupyter-widgets/base",
            "_view_module_version": "1.2.0",
            "_view_name": "LayoutView",
            "align_content": null,
            "align_items": null,
            "align_self": null,
            "border": null,
            "bottom": null,
            "display": null,
            "flex": null,
            "flex_flow": null,
            "grid_area": null,
            "grid_auto_columns": null,
            "grid_auto_flow": null,
            "grid_auto_rows": null,
            "grid_column": null,
            "grid_gap": null,
            "grid_row": null,
            "grid_template_areas": null,
            "grid_template_columns": null,
            "grid_template_rows": null,
            "height": null,
            "justify_content": null,
            "justify_items": null,
            "left": null,
            "margin": null,
            "max_height": null,
            "max_width": null,
            "min_height": null,
            "min_width": null,
            "object_fit": null,
            "object_position": null,
            "order": null,
            "overflow": null,
            "overflow_x": null,
            "overflow_y": null,
            "padding": null,
            "right": null,
            "top": null,
            "visibility": null,
            "width": null
          }
        },
        "9915494b9ece4488a6c35cd3c0f7708f": {
          "model_module": "@jupyter-widgets/controls",
          "model_name": "DescriptionStyleModel",
          "model_module_version": "1.5.0",
          "state": {
            "_model_module": "@jupyter-widgets/controls",
            "_model_module_version": "1.5.0",
            "_model_name": "DescriptionStyleModel",
            "_view_count": null,
            "_view_module": "@jupyter-widgets/base",
            "_view_module_version": "1.2.0",
            "_view_name": "StyleView",
            "description_width": ""
          }
        }
      }
    }
  },
  "nbformat": 4,
  "nbformat_minor": 0
}