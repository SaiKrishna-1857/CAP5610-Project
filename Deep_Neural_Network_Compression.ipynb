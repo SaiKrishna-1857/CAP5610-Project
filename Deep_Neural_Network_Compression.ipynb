{
  "cells": [
    {
      "cell_type": "markdown",
      "metadata": {
        "id": "Y4vRI0Slei2O"
      },
      "source": [
        "# Installing required modules"
      ]
    },
    {
      "cell_type": "code",
      "execution_count": 1,
      "metadata": {
        "colab": {
          "base_uri": "https://localhost:8080/"
        },
        "id": "78kB_7YjHjn0",
        "outputId": "b5fa6aa5-2300-4f24-be06-f94b900a7cce"
      },
      "outputs": [
        {
          "output_type": "stream",
          "name": "stdout",
          "text": [
            "Looking in indexes: https://pypi.org/simple, https://us-python.pkg.dev/colab-wheels/public/simple/\n",
            "Collecting ipython-autotime\n",
            "  Downloading ipython_autotime-0.3.1-py2.py3-none-any.whl (6.8 kB)\n",
            "Requirement already satisfied: ipython in /usr/local/lib/python3.8/dist-packages (from ipython-autotime) (7.9.0)\n",
            "Requirement already satisfied: setuptools>=18.5 in /usr/local/lib/python3.8/dist-packages (from ipython->ipython-autotime) (57.4.0)\n",
            "Requirement already satisfied: pexpect in /usr/local/lib/python3.8/dist-packages (from ipython->ipython-autotime) (4.8.0)\n",
            "Requirement already satisfied: backcall in /usr/local/lib/python3.8/dist-packages (from ipython->ipython-autotime) (0.2.0)\n",
            "Requirement already satisfied: pygments in /usr/local/lib/python3.8/dist-packages (from ipython->ipython-autotime) (2.6.1)\n",
            "Collecting jedi>=0.10\n",
            "  Downloading jedi-0.18.2-py2.py3-none-any.whl (1.6 MB)\n",
            "\u001b[K     |████████████████████████████████| 1.6 MB 5.2 MB/s \n",
            "\u001b[?25hRequirement already satisfied: prompt-toolkit<2.1.0,>=2.0.0 in /usr/local/lib/python3.8/dist-packages (from ipython->ipython-autotime) (2.0.10)\n",
            "Requirement already satisfied: decorator in /usr/local/lib/python3.8/dist-packages (from ipython->ipython-autotime) (4.4.2)\n",
            "Requirement already satisfied: traitlets>=4.2 in /usr/local/lib/python3.8/dist-packages (from ipython->ipython-autotime) (5.1.1)\n",
            "Requirement already satisfied: pickleshare in /usr/local/lib/python3.8/dist-packages (from ipython->ipython-autotime) (0.7.5)\n",
            "Requirement already satisfied: parso<0.9.0,>=0.8.0 in /usr/local/lib/python3.8/dist-packages (from jedi>=0.10->ipython->ipython-autotime) (0.8.3)\n",
            "Requirement already satisfied: six>=1.9.0 in /usr/local/lib/python3.8/dist-packages (from prompt-toolkit<2.1.0,>=2.0.0->ipython->ipython-autotime) (1.15.0)\n",
            "Requirement already satisfied: wcwidth in /usr/local/lib/python3.8/dist-packages (from prompt-toolkit<2.1.0,>=2.0.0->ipython->ipython-autotime) (0.2.5)\n",
            "Requirement already satisfied: ptyprocess>=0.5 in /usr/local/lib/python3.8/dist-packages (from pexpect->ipython->ipython-autotime) (0.7.0)\n",
            "Installing collected packages: jedi, ipython-autotime\n",
            "Successfully installed ipython-autotime-0.3.1 jedi-0.18.2\n"
          ]
        }
      ],
      "source": [
        "!pip install ipython-autotime"
      ]
    },
    {
      "cell_type": "code",
      "execution_count": 2,
      "metadata": {
        "colab": {
          "base_uri": "https://localhost:8080/"
        },
        "id": "eKnoBAeD8Lsx",
        "outputId": "3bfd055d-9ab5-4b04-dfba-e2f8107aa912"
      },
      "outputs": [
        {
          "output_type": "stream",
          "name": "stdout",
          "text": [
            "Looking in indexes: https://pypi.org/simple, https://us-python.pkg.dev/colab-wheels/public/simple/\n",
            "Collecting torch_pruning==0.2.6\n",
            "  Downloading torch_pruning-0.2.6-py3-none-any.whl (13 kB)\n",
            "Requirement already satisfied: torch in /usr/local/lib/python3.8/dist-packages (from torch_pruning==0.2.6) (1.12.1+cu113)\n",
            "Requirement already satisfied: typing-extensions in /usr/local/lib/python3.8/dist-packages (from torch->torch_pruning==0.2.6) (4.1.1)\n",
            "Installing collected packages: torch-pruning\n",
            "Successfully installed torch-pruning-0.2.6\n"
          ]
        }
      ],
      "source": [
        "!pip install torch_pruning==0.2.6"
      ]
    },
    {
      "cell_type": "markdown",
      "metadata": {
        "id": "HkoCZA-aY7jB"
      },
      "source": [
        "# Importing required modules"
      ]
    },
    {
      "cell_type": "code",
      "execution_count": 3,
      "metadata": {
        "colab": {
          "base_uri": "https://localhost:8080/"
        },
        "id": "bnsyueTmRuFr",
        "outputId": "0d6712cc-0678-465c-9ec0-4ce01aebd391"
      },
      "outputs": [
        {
          "output_type": "stream",
          "name": "stdout",
          "text": [
            "time: 379 µs (started: 2022-12-04 21:57:00 +00:00)\n"
          ]
        }
      ],
      "source": [
        "# Importing required modules\n",
        "import numpy as np\n",
        "import matplotlib.pyplot as plt\n",
        "import torch\n",
        "from torch.utils.data import DataLoader\n",
        "import torch.optim as optim\n",
        "import torch.nn as nn\n",
        "from torchvision import models,transforms,datasets\n",
        "import torch.nn.utils.prune as prune\n",
        "from copy import deepcopy\n",
        "import torch_pruning as tp\n",
        "import sys\n",
        "import os\n",
        "\n",
        "# Module to time everything\n",
        "%load_ext autotime"
      ]
    },
    {
      "cell_type": "code",
      "execution_count": 4,
      "metadata": {
        "colab": {
          "base_uri": "https://localhost:8080/"
        },
        "id": "XpLwZxqnkIvs",
        "outputId": "3c976ebc-46e6-4154-efc1-594d5900327f"
      },
      "outputs": [
        {
          "output_type": "execute_result",
          "data": {
            "text/plain": [
              "device(type='cuda')"
            ]
          },
          "metadata": {},
          "execution_count": 4
        },
        {
          "output_type": "stream",
          "name": "stdout",
          "text": [
            "time: 859 ms (started: 2022-12-04 21:57:00 +00:00)\n"
          ]
        }
      ],
      "source": [
        "# Setting up GPU\n",
        "device = torch.device('cuda' if torch.cuda.is_available() else 'cpu')\n",
        "device"
      ]
    },
    {
      "cell_type": "markdown",
      "metadata": {
        "id": "7JU1Mfvde2AG"
      },
      "source": [
        "# Import CIFAR-100 and Resize"
      ]
    },
    {
      "cell_type": "code",
      "execution_count": 5,
      "metadata": {
        "colab": {
          "base_uri": "https://localhost:8080/"
        },
        "id": "_b0GiF4QUIqL",
        "outputId": "01942e82-59b1-473c-bd26-fa8c46d4d9ad"
      },
      "outputs": [
        {
          "output_type": "stream",
          "name": "stdout",
          "text": [
            "time: 1.92 ms (started: 2022-12-04 21:57:01 +00:00)\n"
          ]
        }
      ],
      "source": [
        "# Transforming the CIFAR100 train dataset and test dataset\n",
        "train_transform = transforms.Compose([transforms.Resize(64),\n",
        "                                   transforms.RandomHorizontalFlip(),\n",
        "                                   transforms.RandomRotation(15),\n",
        "                                   transforms.ToTensor(),\n",
        "                                   transforms.Normalize((0.48,0.4593,0.4155),(0.2774,0.2794,0.2794))])\n",
        "\n",
        "test_transform = transforms.Compose([transforms.Resize(64),\n",
        "                                  transforms.ToTensor(),\n",
        "                                  transforms.Normalize((0.48,0.4593,0.4155),(0.2774,0.2794,0.2794))])"
      ]
    },
    {
      "cell_type": "code",
      "execution_count": 6,
      "metadata": {
        "colab": {
          "base_uri": "https://localhost:8080/",
          "height": 103,
          "referenced_widgets": [
            "a2648445998643de804d54547c29051d",
            "16c8f05bb2624e94a3df4bab00edc71d",
            "201e464e189245a7bab36d1fc0b1490d",
            "d2bfe2e0938a4439a78445ecef7a41c7",
            "cf90f07b5bce49969c2e60ca9cc1e353",
            "2776ea07ff134db89854c33604062f6c",
            "6998e232d7df4b6883799b97870232cb",
            "21e5a8473b8340f0a0069a6cfe1a5c9d",
            "ae2e9338dbf044869d54995b578fc740",
            "a450c9b6a4fa4ace92938579445729fd",
            "925cd905ab244e2fb90c3a6f5f0eebf1"
          ]
        },
        "id": "A9nbu4BoSSj_",
        "outputId": "a59b711f-c1b0-41bc-f65c-ac89d391b974"
      },
      "outputs": [
        {
          "output_type": "stream",
          "name": "stdout",
          "text": [
            "Downloading https://www.cs.toronto.edu/~kriz/cifar-100-python.tar.gz to CIFAR100/cifar-100-python.tar.gz\n"
          ]
        },
        {
          "output_type": "display_data",
          "data": {
            "text/plain": [
              "  0%|          | 0/169001437 [00:00<?, ?it/s]"
            ],
            "application/vnd.jupyter.widget-view+json": {
              "version_major": 2,
              "version_minor": 0,
              "model_id": "a2648445998643de804d54547c29051d"
            }
          },
          "metadata": {}
        },
        {
          "output_type": "stream",
          "name": "stdout",
          "text": [
            "Extracting CIFAR100/cifar-100-python.tar.gz to CIFAR100\n",
            "time: 7.15 s (started: 2022-12-04 21:57:01 +00:00)\n"
          ]
        }
      ],
      "source": [
        "# Loading the train dataset\n",
        "train_data_set = datasets.CIFAR100(root = \"CIFAR100\", train = True, download = True, transform = train_transform)"
      ]
    },
    {
      "cell_type": "code",
      "execution_count": 7,
      "metadata": {
        "colab": {
          "base_uri": "https://localhost:8080/"
        },
        "id": "HrYMgq0mSXIP",
        "outputId": "6b39dd66-175d-4eaa-9950-db9cfb3d9aff"
      },
      "outputs": [
        {
          "output_type": "stream",
          "name": "stdout",
          "text": [
            "Files already downloaded and verified\n",
            "time: 1.27 s (started: 2022-12-04 21:57:08 +00:00)\n"
          ]
        }
      ],
      "source": [
        "# Loading the test dataset\n",
        "test_data_set = datasets.CIFAR100(root = \"CIFAR100\", train = False, download = True, transform = test_transform)"
      ]
    },
    {
      "cell_type": "code",
      "execution_count": 8,
      "metadata": {
        "colab": {
          "base_uri": "https://localhost:8080/"
        },
        "id": "i5bLuLgL7zrF",
        "outputId": "75c5d1d6-b661-4723-b9d5-fa1dea2d27b8"
      },
      "outputs": [
        {
          "output_type": "execute_result",
          "data": {
            "text/plain": [
              "torch.Size([3, 64, 64])"
            ]
          },
          "metadata": {},
          "execution_count": 8
        },
        {
          "output_type": "stream",
          "name": "stdout",
          "text": [
            "time: 129 ms (started: 2022-12-04 21:57:09 +00:00)\n"
          ]
        }
      ],
      "source": [
        "train_data_set[0][0].shape"
      ]
    },
    {
      "cell_type": "code",
      "execution_count": 9,
      "metadata": {
        "colab": {
          "base_uri": "https://localhost:8080/"
        },
        "id": "02RU0eKt73KQ",
        "outputId": "5b1ca542-6465-4094-97ea-9ae81ab4eb2b"
      },
      "outputs": [
        {
          "output_type": "execute_result",
          "data": {
            "text/plain": [
              "torch.Size([3, 64, 64])"
            ]
          },
          "metadata": {},
          "execution_count": 9
        },
        {
          "output_type": "stream",
          "name": "stdout",
          "text": [
            "time: 5.51 ms (started: 2022-12-04 21:57:09 +00:00)\n"
          ]
        }
      ],
      "source": [
        "test_data_set[0][0].shape"
      ]
    },
    {
      "cell_type": "markdown",
      "metadata": {
        "id": "2g65SO2tfYES"
      },
      "source": [
        "# VGG16"
      ]
    },
    {
      "cell_type": "code",
      "execution_count": 10,
      "metadata": {
        "colab": {
          "base_uri": "https://localhost:8080/"
        },
        "id": "0PJxLwDRvpPA",
        "outputId": "629adfae-9b81-4586-f406-06353e71193f"
      },
      "outputs": [
        {
          "output_type": "stream",
          "name": "stdout",
          "text": [
            "time: 647 µs (started: 2022-12-04 21:57:09 +00:00)\n"
          ]
        }
      ],
      "source": [
        "# Defining number of classes in the dataset\n",
        "n_classes = 100\n",
        "\n",
        "# Defining the Batch size for training\n",
        "batch_size = 64\n",
        "\n",
        "# Defining Number of epochs\n",
        "n_epochs = 15"
      ]
    },
    {
      "cell_type": "code",
      "execution_count": 11,
      "metadata": {
        "colab": {
          "base_uri": "https://localhost:8080/",
          "height": 177,
          "referenced_widgets": [
            "6a9816cd8fa54d179522a263e1774fbd",
            "206d064c10134fd2bb600f1f8b5c6319",
            "f453882ff26447f6827d7014defdfe9b",
            "effda5a06a914065a0f49ca891222616",
            "7b97f74cc0cf4f8d8fa44def57e88a82",
            "b0f7d11dc431402784a461a490a64439",
            "6c7799b72007416a95798b01593376cb",
            "e68e2a65f4b9492d96422c3b6caf63e1",
            "82a0b2b3beb14a0abb73981ea8d2ecf3",
            "5fca56a43d7f4acd8ef6b71fc31bca0c",
            "b57e55ba447a4204828c0f11bfe90d0d"
          ]
        },
        "id": "MdBM_c17kXNx",
        "outputId": "6016bd56-77de-4537-b9d7-7c24815643ed"
      },
      "outputs": [
        {
          "output_type": "stream",
          "name": "stderr",
          "text": [
            "/usr/local/lib/python3.8/dist-packages/torchvision/models/_utils.py:208: UserWarning: The parameter 'pretrained' is deprecated since 0.13 and will be removed in 0.15, please use 'weights' instead.\n",
            "  warnings.warn(\n",
            "/usr/local/lib/python3.8/dist-packages/torchvision/models/_utils.py:223: UserWarning: Arguments other than a weight enum or `None` for 'weights' are deprecated since 0.13 and will be removed in 0.15. The current behavior is equivalent to passing `weights=VGG16_Weights.IMAGENET1K_V1`. You can also use `weights=VGG16_Weights.DEFAULT` to get the most up-to-date weights.\n",
            "  warnings.warn(msg)\n",
            "Downloading: \"https://download.pytorch.org/models/vgg16-397923af.pth\" to /root/.cache/torch/hub/checkpoints/vgg16-397923af.pth\n"
          ]
        },
        {
          "output_type": "display_data",
          "data": {
            "text/plain": [
              "  0%|          | 0.00/528M [00:00<?, ?B/s]"
            ],
            "application/vnd.jupyter.widget-view+json": {
              "version_major": 2,
              "version_minor": 0,
              "model_id": "6a9816cd8fa54d179522a263e1774fbd"
            }
          },
          "metadata": {}
        },
        {
          "output_type": "stream",
          "name": "stdout",
          "text": [
            "time: 12.3 s (started: 2022-12-04 21:57:09 +00:00)\n"
          ]
        }
      ],
      "source": [
        "# Importing VGG16 model with 130 million+ parameters\n",
        "vgg16_model = models.vgg16(pretrained = True)\n",
        "\n",
        "# Modifying last layer out classes\n",
        "vgg16_model.classifier[6].out_features = n_classes\n",
        "\n",
        "vgg16_model = vgg16_model.to(device)"
      ]
    },
    {
      "cell_type": "code",
      "execution_count": 12,
      "metadata": {
        "colab": {
          "base_uri": "https://localhost:8080/"
        },
        "id": "KlCn31Vefi1e",
        "outputId": "491778f4-293d-42ee-bfcf-ce211ad11cb4"
      },
      "outputs": [
        {
          "output_type": "stream",
          "name": "stdout",
          "text": [
            "VGG(\n",
            "  (features): Sequential(\n",
            "    (0): Conv2d(3, 64, kernel_size=(3, 3), stride=(1, 1), padding=(1, 1))\n",
            "    (1): ReLU(inplace=True)\n",
            "    (2): Conv2d(64, 64, kernel_size=(3, 3), stride=(1, 1), padding=(1, 1))\n",
            "    (3): ReLU(inplace=True)\n",
            "    (4): MaxPool2d(kernel_size=2, stride=2, padding=0, dilation=1, ceil_mode=False)\n",
            "    (5): Conv2d(64, 128, kernel_size=(3, 3), stride=(1, 1), padding=(1, 1))\n",
            "    (6): ReLU(inplace=True)\n",
            "    (7): Conv2d(128, 128, kernel_size=(3, 3), stride=(1, 1), padding=(1, 1))\n",
            "    (8): ReLU(inplace=True)\n",
            "    (9): MaxPool2d(kernel_size=2, stride=2, padding=0, dilation=1, ceil_mode=False)\n",
            "    (10): Conv2d(128, 256, kernel_size=(3, 3), stride=(1, 1), padding=(1, 1))\n",
            "    (11): ReLU(inplace=True)\n",
            "    (12): Conv2d(256, 256, kernel_size=(3, 3), stride=(1, 1), padding=(1, 1))\n",
            "    (13): ReLU(inplace=True)\n",
            "    (14): Conv2d(256, 256, kernel_size=(3, 3), stride=(1, 1), padding=(1, 1))\n",
            "    (15): ReLU(inplace=True)\n",
            "    (16): MaxPool2d(kernel_size=2, stride=2, padding=0, dilation=1, ceil_mode=False)\n",
            "    (17): Conv2d(256, 512, kernel_size=(3, 3), stride=(1, 1), padding=(1, 1))\n",
            "    (18): ReLU(inplace=True)\n",
            "    (19): Conv2d(512, 512, kernel_size=(3, 3), stride=(1, 1), padding=(1, 1))\n",
            "    (20): ReLU(inplace=True)\n",
            "    (21): Conv2d(512, 512, kernel_size=(3, 3), stride=(1, 1), padding=(1, 1))\n",
            "    (22): ReLU(inplace=True)\n",
            "    (23): MaxPool2d(kernel_size=2, stride=2, padding=0, dilation=1, ceil_mode=False)\n",
            "    (24): Conv2d(512, 512, kernel_size=(3, 3), stride=(1, 1), padding=(1, 1))\n",
            "    (25): ReLU(inplace=True)\n",
            "    (26): Conv2d(512, 512, kernel_size=(3, 3), stride=(1, 1), padding=(1, 1))\n",
            "    (27): ReLU(inplace=True)\n",
            "    (28): Conv2d(512, 512, kernel_size=(3, 3), stride=(1, 1), padding=(1, 1))\n",
            "    (29): ReLU(inplace=True)\n",
            "    (30): MaxPool2d(kernel_size=2, stride=2, padding=0, dilation=1, ceil_mode=False)\n",
            "  )\n",
            "  (avgpool): AdaptiveAvgPool2d(output_size=(7, 7))\n",
            "  (classifier): Sequential(\n",
            "    (0): Linear(in_features=25088, out_features=4096, bias=True)\n",
            "    (1): ReLU(inplace=True)\n",
            "    (2): Dropout(p=0.5, inplace=False)\n",
            "    (3): Linear(in_features=4096, out_features=4096, bias=True)\n",
            "    (4): ReLU(inplace=True)\n",
            "    (5): Dropout(p=0.5, inplace=False)\n",
            "    (6): Linear(in_features=4096, out_features=100, bias=True)\n",
            "  )\n",
            ")\n",
            "time: 1.65 ms (started: 2022-12-04 21:57:22 +00:00)\n"
          ]
        }
      ],
      "source": [
        "# Printing VGG16 Model\n",
        "print(vgg16_model)"
      ]
    },
    {
      "cell_type": "markdown",
      "metadata": {
        "id": "jqx8S8jIe_pM"
      },
      "source": [
        "# Training"
      ]
    },
    {
      "cell_type": "code",
      "execution_count": 13,
      "metadata": {
        "colab": {
          "base_uri": "https://localhost:8080/"
        },
        "id": "nR8nsYZ_px8S",
        "outputId": "16ab1443-ff64-4290-d5ca-f441121a45bd"
      },
      "outputs": [
        {
          "output_type": "stream",
          "name": "stdout",
          "text": [
            "time: 1.43 ms (started: 2022-12-04 21:57:22 +00:00)\n"
          ]
        }
      ],
      "source": [
        "# To compute the cross entropy loss between input and target\n",
        "criterion = nn.CrossEntropyLoss()\n",
        "\n",
        "# To implement stochastic gradient descent and optimize the model\n",
        "sgd_optimizer = optim.SGD(vgg16_model.parameters(), lr = 0.003, momentum = 0.9)\n",
        "\n",
        "# Decays the learning rate of each parameter group by gamma every step_size epochs\n",
        "lr_scheduler = optim.lr_scheduler.StepLR(sgd_optimizer, step_size = 15, gamma = 0.1)\n",
        "\n",
        "# Defining a 'DataLoader' constructor, a Python iterable over a dataset\n",
        "train_dataloader  = DataLoader(train_data_set, batch_size = batch_size, shuffle = True)\n",
        "test_dataloader   = DataLoader(test_data_set, batch_size = batch_size, shuffle = True)"
      ]
    },
    {
      "cell_type": "code",
      "execution_count": 14,
      "metadata": {
        "colab": {
          "base_uri": "https://localhost:8080/"
        },
        "id": "M58bUMju28j4",
        "outputId": "83b87851-8f9b-405c-f775-ce9620318e18"
      },
      "outputs": [
        {
          "output_type": "stream",
          "name": "stdout",
          "text": [
            "time: 1.13 ms (started: 2022-12-04 21:57:22 +00:00)\n"
          ]
        }
      ],
      "source": [
        "# Method to train the model\n",
        "def fit(model, dataset, optimizer, scheduler, criterion):\n",
        "  # Set model to training mode\n",
        "  model.train()\n",
        "  if scheduler != None:\n",
        "    scheduler.step()\n",
        "  # Iterating over the data\n",
        "  for data, targets in dataset:\n",
        "    data    = data.to(device)\n",
        "    targets = targets.to(device)\n",
        "    # Reset the gradients\n",
        "    optimizer.zero_grad()\n",
        "    # Generate predictions\n",
        "    pred  = model(data)\n",
        "    # Calculate loss\n",
        "    loss  = criterion(pred, targets)\n",
        "    # Backpropagation\n",
        "    loss.backward()\n",
        "    # Update model parameters\n",
        "    optimizer.step()"
      ]
    },
    {
      "cell_type": "code",
      "execution_count": 15,
      "metadata": {
        "colab": {
          "base_uri": "https://localhost:8080/"
        },
        "id": "ZSPUrB5mperN",
        "outputId": "8b9adfed-fc40-4633-8be5-4168c6b1c5ce"
      },
      "outputs": [
        {
          "output_type": "stream",
          "name": "stdout",
          "text": [
            "time: 2.16 ms (started: 2022-12-04 21:57:22 +00:00)\n"
          ]
        }
      ],
      "source": [
        "from os import pread\n",
        "# Method to validate the model\n",
        "def validate(model, dataset, criterion):\n",
        "  # Set model to evaluation mode\n",
        "  model.eval()\n",
        "  accuracy  = 0\n",
        "  loss      = []\n",
        "  for data, targets in dataset:\n",
        "    data    = data.to(device)\n",
        "    targets = targets.to(device)\n",
        "    pred    = model(data)\n",
        "    # Get loss\n",
        "    l = criterion(pred, targets)\n",
        "    loss.append(l.item())\n",
        "    # Get index of class label\n",
        "    _,preds = torch.max(pred.data,1)\n",
        "    # Get accuracy\n",
        "    accuracy += torch.sum(preds == targets).item()\n",
        "\n",
        "  return 100*accuracy/len(dataset.dataset), np.mean(np.array(loss))"
      ]
    },
    {
      "cell_type": "code",
      "execution_count": 16,
      "metadata": {
        "colab": {
          "base_uri": "https://localhost:8080/"
        },
        "id": "vCp8TFGSfzYx",
        "outputId": "dd3923c0-1b6a-41ed-81b1-54802dd0bcf0"
      },
      "outputs": [
        {
          "output_type": "stream",
          "name": "stderr",
          "text": [
            "/usr/local/lib/python3.8/dist-packages/torch/optim/lr_scheduler.py:131: UserWarning: Detected call of `lr_scheduler.step()` before `optimizer.step()`. In PyTorch 1.1.0 and later, you should call them in the opposite order: `optimizer.step()` before `lr_scheduler.step()`.  Failure to do this will result in PyTorch skipping the first value of the learning rate schedule. See more details at https://pytorch.org/docs/stable/optim.html#how-to-adjust-learning-rate\n",
            "  warnings.warn(\"Detected call of `lr_scheduler.step()` before `optimizer.step()`. \"\n"
          ]
        },
        {
          "output_type": "stream",
          "name": "stdout",
          "text": [
            "Epoch: 1\t Train_Loss:2.9770\t Train_Acc:22.0240\t Test_Loss:2.9720\t Test_Acc:21.9200\n",
            "Epoch: 2\t Train_Loss:1.8516\t Train_Acc:47.3980\t Test_Loss:1.8768\t Test_Acc:47.0600\n",
            "Epoch: 3\t Train_Loss:1.4252\t Train_Acc:58.9860\t Test_Loss:1.5182\t Test_Acc:56.8100\n",
            "Epoch: 4\t Train_Loss:1.2389\t Train_Acc:63.9740\t Test_Loss:1.3961\t Test_Acc:60.3300\n",
            "Epoch: 5\t Train_Loss:1.0360\t Train_Acc:69.6760\t Test_Loss:1.2841\t Test_Acc:63.5000\n",
            "Epoch: 6\t Train_Loss:0.9114\t Train_Acc:72.8280\t Test_Loss:1.2117\t Test_Acc:65.2600\n",
            "Epoch: 7\t Train_Loss:0.8016\t Train_Acc:75.7900\t Test_Loss:1.1886\t Test_Acc:67.6400\n",
            "Epoch: 8\t Train_Loss:0.7126\t Train_Acc:78.6220\t Test_Loss:1.1381\t Test_Acc:68.6000\n",
            "Epoch: 9\t Train_Loss:0.5975\t Train_Acc:81.8160\t Test_Loss:1.0938\t Test_Acc:70.1500\n",
            "Epoch:10\t Train_Loss:0.6247\t Train_Acc:81.2260\t Test_Loss:1.1470\t Test_Acc:69.4100\n",
            "Epoch:11\t Train_Loss:0.5420\t Train_Acc:83.3800\t Test_Loss:1.1296\t Test_Acc:69.7300\n",
            "Epoch:12\t Train_Loss:0.4602\t Train_Acc:85.8640\t Test_Loss:1.1297\t Test_Acc:70.6000\n",
            "Epoch:13\t Train_Loss:0.5002\t Train_Acc:84.4980\t Test_Loss:1.2002\t Test_Acc:69.2300\n",
            "Epoch:14\t Train_Loss:0.3799\t Train_Acc:87.9740\t Test_Loss:1.1601\t Test_Acc:71.1400\n",
            "Epoch:15\t Train_Loss:0.2049\t Train_Acc:93.4680\t Test_Loss:1.0748\t Test_Acc:74.8300\n",
            "time: 36min 54s (started: 2022-12-04 21:57:22 +00:00)\n"
          ]
        }
      ],
      "source": [
        "train_loss  = []\n",
        "train_acc   = []\n",
        "test_loss   = []\n",
        "test_acc    = []\n",
        "epochs      = []\n",
        "epoch_value = 0\n",
        "\n",
        "# Loop for n_epochs\n",
        "for epoch in range(n_epochs):\n",
        "  # Fit model\n",
        "  fit(vgg16_model, train_dataloader, sgd_optimizer, lr_scheduler, criterion)\n",
        "\n",
        "  # Train validation\n",
        "  train_accuracy, train_lss = validate(vgg16_model, train_dataloader, criterion)\n",
        "  train_loss.append(train_lss)\n",
        "  train_acc.append(train_accuracy)\n",
        "\n",
        "  # Test validation\n",
        "  test_accuracy, test_lss = validate(vgg16_model, test_dataloader, criterion)\n",
        "  test_loss.append(test_lss)\n",
        "  test_acc.append(test_accuracy)\n",
        "\n",
        "  # Printing the epochs with Traing Loss, Train Accuracy, Test Loss and Test Accuracy\n",
        "  print(f'Epoch:{epoch+1:2.0f}\\t Train_Loss:{train_loss[-1]:.4f}\\t Train_Acc:{train_acc[-1]:.4f}\\t Test_Loss:{test_loss[-1]:.4f}\\t Test_Acc:{test_acc[-1]:.4f}')\n",
        "  epoch_value +=1\n",
        "  epochs.append(epoch_value)\n"
      ]
    },
    {
      "cell_type": "code",
      "source": [
        "# Plotting Epoch vs Test Loss\n",
        "print('Test Loss: ', test_loss)\n",
        "print('Epochs: ', epochs)\n",
        "\n",
        "plt.plot(test_loss, epochs)\n",
        "plt.ylabel('epochs')\n",
        "plt.xlabel('Test Loss')"
      ],
      "metadata": {
        "colab": {
          "base_uri": "https://localhost:8080/",
          "height": 371
        },
        "id": "LEOXNjZx29aV",
        "outputId": "cfb47bc7-16e3-4eca-eef9-cacbe57bcb18"
      },
      "execution_count": 17,
      "outputs": [
        {
          "output_type": "stream",
          "name": "stdout",
          "text": [
            "Test Loss:  [2.9719934919077877, 1.876826244554702, 1.5182372787196166, 1.3960511805904898, 1.2841327573843062, 1.2117138829580538, 1.1886329434479876, 1.1381115871629897, 1.0938001757214784, 1.147048495757352, 1.1296309126410515, 1.1296615365204539, 1.2001943516123825, 1.1601214359520347, 1.0747624791351853]\n",
            "Epochs:  [1, 2, 3, 4, 5, 6, 7, 8, 9, 10, 11, 12, 13, 14, 15]\n"
          ]
        },
        {
          "output_type": "execute_result",
          "data": {
            "text/plain": [
              "Text(0.5, 0, 'Test Loss')"
            ]
          },
          "metadata": {},
          "execution_count": 17
        },
        {
          "output_type": "display_data",
          "data": {
            "text/plain": [
              "<Figure size 432x288 with 1 Axes>"
            ],
            "image/png": "[encoded data removed]"
          },
          "metadata": {
            "needs_background": "light"
          }
        },
        {
          "output_type": "stream",
          "name": "stdout",
          "text": [
            "time: 182 ms (started: 2022-12-04 22:34:16 +00:00)\n"
          ]
        }
      ]
    },
    {
      "cell_type": "markdown",
      "metadata": {
        "id": "k-3zSFVjlwcS"
      },
      "source": [
        "# Save VGG16 Model"
      ]
    },
    {
      "cell_type": "code",
      "execution_count": 18,
      "metadata": {
        "id": "TJWa4V-2NmN2",
        "colab": {
          "base_uri": "https://localhost:8080/"
        },
        "outputId": "1fc25879-022c-4c04-e860-dc41b602a367"
      },
      "outputs": [
        {
          "output_type": "stream",
          "name": "stdout",
          "text": [
            "Mounted at /content/gdrive\n",
            "time: 18min 46s (started: 2022-12-04 22:34:17 +00:00)\n"
          ]
        }
      ],
      "source": [
        "# Authorizing Google Drive\n",
        "from google.colab import drive\n",
        "drive.mount('/content/gdrive')"
      ]
    },
    {
      "cell_type": "code",
      "source": [
        "# Saving the model to Drive\n",
        "path = F\"/content/gdrive/My Drive/Colab Notebooks/VGG16(SGD)-v1.0\"\n",
        "torch.save(vgg16_model.state_dict(), path)"
      ],
      "metadata": {
        "colab": {
          "base_uri": "https://localhost:8080/"
        },
        "id": "zvnigyGwdt_C",
        "outputId": "b349114c-a741-417c-9e72-7816118c2a6c"
      },
      "execution_count": 19,
      "outputs": [
        {
          "output_type": "stream",
          "name": "stdout",
          "text": [
            "time: 8.5 s (started: 2022-12-04 22:53:03 +00:00)\n"
          ]
        }
      ]
    },
    {
      "cell_type": "code",
      "execution_count": 20,
      "metadata": {
        "id": "CEAkg3NU8sLG",
        "colab": {
          "base_uri": "https://localhost:8080/"
        },
        "outputId": "e3fec466-e560-4138-b408-cf8371dbcb94"
      },
      "outputs": [
        {
          "output_type": "stream",
          "name": "stdout",
          "text": [
            "cuda\n",
            "time: 673 µs (started: 2022-12-04 22:53:11 +00:00)\n"
          ]
        }
      ],
      "source": [
        "# Checking the GPU\n",
        "device = torch.device('cuda' if torch.cuda.is_available() else 'cpu')\n",
        "print(device)"
      ]
    },
    {
      "cell_type": "markdown",
      "metadata": {
        "id": "kqgGbibD82sP"
      },
      "source": [
        "# Important Functions"
      ]
    },
    {
      "cell_type": "code",
      "execution_count": 21,
      "metadata": {
        "id": "QQwrIpKDZWE6",
        "colab": {
          "base_uri": "https://localhost:8080/"
        },
        "outputId": "45d10f52-5246-47ad-d094-4f038e3ec15b"
      },
      "outputs": [
        {
          "output_type": "stream",
          "name": "stdout",
          "text": [
            "time: 1.14 ms (started: 2022-12-04 22:53:11 +00:00)\n"
          ]
        }
      ],
      "source": [
        "# Method to remove parameters\n",
        "def remove_parameters(model):\n",
        "    for module_name, module in model.named_modules():\n",
        "        if isinstance(module, torch.nn.Conv2d):\n",
        "            try:\n",
        "                prune.remove(module, \"weight\")\n",
        "            except:\n",
        "                pass\n",
        "            try:\n",
        "                prune.remove(module, \"bias\")\n",
        "            except:\n",
        "                pass\n",
        "        elif isinstance(module, torch.nn.Linear):\n",
        "            try:\n",
        "                prune.remove(module, \"weight\")\n",
        "            except:\n",
        "                pass\n",
        "            try:\n",
        "                prune.remove(module, \"bias\")\n",
        "            except:\n",
        "                pass\n",
        "    return model"
      ]
    },
    {
      "cell_type": "code",
      "execution_count": 22,
      "metadata": {
        "id": "bSzCYD1q9TBo",
        "colab": {
          "base_uri": "https://localhost:8080/"
        },
        "outputId": "20054198-ffa4-497e-dc6d-6e7f23e4dfda"
      },
      "outputs": [
        {
          "output_type": "stream",
          "name": "stdout",
          "text": [
            "time: 1.07 ms (started: 2022-12-04 22:53:11 +00:00)\n"
          ]
        }
      ],
      "source": [
        "# Method for Unstructured Pruning\n",
        "def unstructured_global_pruning(model, amount):\n",
        "  pruning_model       = deepcopy(model)\n",
        "  pruning_model       = pruning_model.to(device)\n",
        "  parameters_to_prune = []\n",
        "  for module_name, module in pruning_model.named_modules():\n",
        "      if isinstance(module, torch.nn.Conv2d) or isinstance(module, torch.nn.Linear):\n",
        "          parameters_to_prune.append((module, \"weight\"))\n",
        "\n",
        "  prune.global_unstructured(\n",
        "      parameters = parameters_to_prune,\n",
        "      pruning_method = prune.L1Unstructured,\n",
        "      amount = amount)\n",
        "\n",
        "  pruning_model = remove_parameters(model = pruning_model)\n",
        "\n",
        "  return pruning_model"
      ]
    },
    {
      "cell_type": "code",
      "source": [
        "# Method for Structured Pruning\n",
        "def structured_pruning(model, sparsity_layer):\n",
        "  pruning_model         = deepcopy(model)\n",
        "  pruning_model         = pruning_model.to(device)\n",
        "  prunable_module_type  = (nn.Conv2d, nn.Linear)\n",
        "  prunable_modules      = [ m for m in pruning_model.modules() if isinstance(m, prunable_module_type) ]\n",
        "  strategy              = tp.strategy.L1Strategy()\n",
        "  Dependency_Graph      = tp.DependencyGraph().build_dependency(pruning_model, example_inputs = torch.randn(1,3,64,64))\n",
        "\n",
        "  i = 0\n",
        "  for layer_to_prune in prunable_modules:\n",
        "    if isinstance(layer_to_prune, nn.Conv2d):\n",
        "        prune_function = tp.prune_conv\n",
        "    elif isinstance(layer_to_prune, nn.Linear):\n",
        "        prune_function = tp.prune_linear\n",
        "    \n",
        "    pruning_idxs  = strategy(layer_to_prune.weight, amount = sparsity_layer[i])\n",
        "    plan          = Dependency_Graph.get_pruning_plan( layer_to_prune, prune_function, pruning_idxs)\n",
        "\n",
        "    i += 1\n",
        "\n",
        "    plan.exec()\n",
        "  \n",
        "  return pruning_model"
      ],
      "metadata": {
        "colab": {
          "base_uri": "https://localhost:8080/"
        },
        "id": "CrG0uT0deZP5",
        "outputId": "ef51ba18-69eb-4ee2-f561-36f7f1b4142a"
      },
      "execution_count": 23,
      "outputs": [
        {
          "output_type": "stream",
          "name": "stdout",
          "text": [
            "time: 1.77 ms (started: 2022-12-04 22:53:11 +00:00)\n"
          ]
        }
      ]
    },
    {
      "cell_type": "code",
      "source": [
        "# Method to evaluate the loss and accuracy of the model\n",
        "def evaluate(model, dataloader):\n",
        "  model.eval()\n",
        "  acc = 0\n",
        "  loss = []\n",
        "  for data, targets in dataloader:\n",
        "    data = data.to(device)\n",
        "    targets = targets.to(device)\n",
        "    out = model(data)\n",
        "    #Get loss\n",
        "    l = criterion(out, targets)\n",
        "    loss.append(l.item())\n",
        "    #Get index of class label\n",
        "    _,preds = torch.max(out.data,1)\n",
        "    #Get accuracy\n",
        "    acc += torch.sum(preds == targets).item()\n",
        "\n",
        "  return 100*acc/len(dataloader.dataset), np.mean(np.array(loss))"
      ],
      "metadata": {
        "colab": {
          "base_uri": "https://localhost:8080/"
        },
        "id": "nbkNBCX_eR0p",
        "outputId": "084c3cde-7fed-4b4d-b7ce-f13dbeb4ec7a"
      },
      "execution_count": 24,
      "outputs": [
        {
          "output_type": "stream",
          "name": "stdout",
          "text": [
            "time: 2.14 ms (started: 2022-12-04 22:53:11 +00:00)\n"
          ]
        }
      ]
    },
    {
      "cell_type": "code",
      "source": [
        "# Method to measure module sparsity\n",
        "def measure_module_sparsity(module, weight=True, bias=False, use_mask=False):\n",
        "    n_zeros = 0\n",
        "    n_elements = 0\n",
        "    if use_mask == True:\n",
        "        for buffer_name, buffer in module.named_buffers():\n",
        "            if \"weight_mask\" in buffer_name and weight == True:\n",
        "                n_zeros += torch.sum(buffer == 0).item()\n",
        "                n_elements += buffer.nelement()\n",
        "            if \"bias_mask\" in buffer_name and bias == True:\n",
        "                n_zeros += torch.sum(buffer == 0).item()\n",
        "                n_elements += buffer.nelement()\n",
        "    else:\n",
        "        for param_name, param in module.named_parameters():\n",
        "            if \"weight\" in param_name and weight == True:\n",
        "                n_zeros += torch.sum(param == 0).item()\n",
        "                n_elements += param.nelement()\n",
        "            if \"bias\" in param_name and bias == True:\n",
        "                n_zeros += torch.sum(param == 0).item()\n",
        "                n_elements += param.nelement()\n",
        "\n",
        "    sparsity = n_zeros / n_elements\n",
        "\n",
        "    return n_zeros, n_elements, sparsity"
      ],
      "metadata": {
        "colab": {
          "base_uri": "https://localhost:8080/"
        },
        "id": "cix42KgylY9T",
        "outputId": "3c9d570c-552e-4440-ab04-c8d9c23d6280"
      },
      "execution_count": 25,
      "outputs": [
        {
          "output_type": "stream",
          "name": "stdout",
          "text": [
            "time: 2.67 ms (started: 2022-12-04 22:53:11 +00:00)\n"
          ]
        }
      ]
    },
    {
      "cell_type": "code",
      "source": [
        "# Method to measure Global sparsity\n",
        "def measure_global_sparsity(model,\n",
        "                            weight=True,\n",
        "                            bias=False,\n",
        "                            conv2d_use_mask=False,\n",
        "                            linear_use_mask=False):\n",
        "\n",
        "    n_zeros = 0\n",
        "    n_elements = 0\n",
        "\n",
        "    for module_name, module in model.named_modules():\n",
        "\n",
        "        if isinstance(module, torch.nn.Conv2d):\n",
        "\n",
        "            module_num_zeros, module_num_elements, _ = measure_module_sparsity(\n",
        "                module, weight=weight, bias=bias, use_mask=conv2d_use_mask)\n",
        "            n_zeros += module_num_zeros\n",
        "            n_elements += module_num_elements\n",
        "\n",
        "        elif isinstance(module, torch.nn.Linear):\n",
        "\n",
        "            module_num_zeros, module_num_elements, _ = measure_module_sparsity(\n",
        "                module, weight=weight, bias=bias, use_mask=linear_use_mask)\n",
        "            n_zeros += module_num_zeros\n",
        "            n_elements += module_num_elements\n",
        "\n",
        "    sparsity = n_zeros / n_elements\n",
        "\n",
        "    return n_zeros, n_elements, sparsity"
      ],
      "metadata": {
        "colab": {
          "base_uri": "https://localhost:8080/"
        },
        "id": "t7VZof8tlUlB",
        "outputId": "083211a7-f200-4dc4-e6cb-232a5a071753"
      },
      "execution_count": 26,
      "outputs": [
        {
          "output_type": "stream",
          "name": "stdout",
          "text": [
            "time: 2.21 ms (started: 2022-12-04 22:53:11 +00:00)\n"
          ]
        }
      ]
    },
    {
      "cell_type": "code",
      "source": [
        "# Defining a 'DataLoader' constructor, a Python iterable over a dataset\n",
        "train_dataloader = DataLoader(train_data_set, batch_size = batch_size, shuffle = True)\n",
        "test_dataloader = DataLoader(test_data_set, batch_size = batch_size)"
      ],
      "metadata": {
        "id": "ex3br4BbzoiF",
        "colab": {
          "base_uri": "https://localhost:8080/"
        },
        "outputId": "f5589e98-fe2e-44c5-c19b-d49240f005c4"
      },
      "execution_count": 27,
      "outputs": [
        {
          "output_type": "stream",
          "name": "stdout",
          "text": [
            "time: 1.49 ms (started: 2022-12-04 22:53:12 +00:00)\n"
          ]
        }
      ]
    },
    {
      "cell_type": "markdown",
      "metadata": {
        "id": "BnSK_srGc5sz"
      },
      "source": [
        "# Import Model to be Pruned"
      ]
    },
    {
      "cell_type": "code",
      "execution_count": 28,
      "metadata": {
        "id": "GjAXLxMTcdds",
        "colab": {
          "base_uri": "https://localhost:8080/"
        },
        "outputId": "999b6c6a-c7a5-427d-c602-2c9da6d6d160"
      },
      "outputs": [
        {
          "output_type": "stream",
          "name": "stderr",
          "text": [
            "/usr/local/lib/python3.8/dist-packages/torchvision/models/_utils.py:223: UserWarning: Arguments other than a weight enum or `None` for 'weights' are deprecated since 0.13 and will be removed in 0.15. The current behavior is equivalent to passing `weights=None`.\n",
            "  warnings.warn(msg)\n"
          ]
        },
        {
          "output_type": "stream",
          "name": "stdout",
          "text": [
            "time: 2.02 s (started: 2022-12-04 22:53:12 +00:00)\n"
          ]
        }
      ],
      "source": [
        "vgg16_model = models.vgg16(pretrained = False)\n",
        "vgg16_model.classifier[6].out_features = n_classes"
      ]
    },
    {
      "cell_type": "code",
      "execution_count": 29,
      "metadata": {
        "id": "W5x4AIAdPZh7",
        "colab": {
          "base_uri": "https://localhost:8080/"
        },
        "outputId": "a712e6c2-9a54-4ece-c754-8c2fc8ed4950"
      },
      "outputs": [
        {
          "output_type": "stream",
          "name": "stdout",
          "text": [
            "Drive already mounted at /content/gdrive; to attempt to forcibly remount, call drive.mount(\"/content/gdrive\", force_remount=True).\n",
            "time: 960 ms (started: 2022-12-04 22:53:14 +00:00)\n"
          ]
        }
      ],
      "source": [
        "from google.colab import drive\n",
        "drive.mount('/content/gdrive')"
      ]
    },
    {
      "cell_type": "code",
      "execution_count": 30,
      "metadata": {
        "id": "4RRfINk5cFWP",
        "colab": {
          "base_uri": "https://localhost:8080/"
        },
        "outputId": "bdbcab4b-3f82-47fc-be72-14b3d66b058c"
      },
      "outputs": [
        {
          "output_type": "execute_result",
          "data": {
            "text/plain": [
              "<All keys matched successfully>"
            ]
          },
          "metadata": {},
          "execution_count": 30
        },
        {
          "output_type": "stream",
          "name": "stdout",
          "text": [
            "time: 984 ms (started: 2022-12-04 22:53:15 +00:00)\n"
          ]
        }
      ],
      "source": [
        "vgg16_model.load_state_dict(torch.load('/content/gdrive/My Drive/Colab Notebooks/VGG16(SGD)-v1.0'))"
      ]
    },
    {
      "cell_type": "code",
      "execution_count": 31,
      "metadata": {
        "id": "VV9kpO1OVHvu",
        "colab": {
          "base_uri": "https://localhost:8080/"
        },
        "outputId": "7210ec59-754c-4ce3-9bdb-c37677b41f05"
      },
      "outputs": [
        {
          "output_type": "execute_result",
          "data": {
            "text/plain": [
              "VGG(\n",
              "  (features): Sequential(\n",
              "    (0): Conv2d(3, 64, kernel_size=(3, 3), stride=(1, 1), padding=(1, 1))\n",
              "    (1): ReLU(inplace=True)\n",
              "    (2): Conv2d(64, 64, kernel_size=(3, 3), stride=(1, 1), padding=(1, 1))\n",
              "    (3): ReLU(inplace=True)\n",
              "    (4): MaxPool2d(kernel_size=2, stride=2, padding=0, dilation=1, ceil_mode=False)\n",
              "    (5): Conv2d(64, 128, kernel_size=(3, 3), stride=(1, 1), padding=(1, 1))\n",
              "    (6): ReLU(inplace=True)\n",
              "    (7): Conv2d(128, 128, kernel_size=(3, 3), stride=(1, 1), padding=(1, 1))\n",
              "    (8): ReLU(inplace=True)\n",
              "    (9): MaxPool2d(kernel_size=2, stride=2, padding=0, dilation=1, ceil_mode=False)\n",
              "    (10): Conv2d(128, 256, kernel_size=(3, 3), stride=(1, 1), padding=(1, 1))\n",
              "    (11): ReLU(inplace=True)\n",
              "    (12): Conv2d(256, 256, kernel_size=(3, 3), stride=(1, 1), padding=(1, 1))\n",
              "    (13): ReLU(inplace=True)\n",
              "    (14): Conv2d(256, 256, kernel_size=(3, 3), stride=(1, 1), padding=(1, 1))\n",
              "    (15): ReLU(inplace=True)\n",
              "    (16): MaxPool2d(kernel_size=2, stride=2, padding=0, dilation=1, ceil_mode=False)\n",
              "    (17): Conv2d(256, 512, kernel_size=(3, 3), stride=(1, 1), padding=(1, 1))\n",
              "    (18): ReLU(inplace=True)\n",
              "    (19): Conv2d(512, 512, kernel_size=(3, 3), stride=(1, 1), padding=(1, 1))\n",
              "    (20): ReLU(inplace=True)\n",
              "    (21): Conv2d(512, 512, kernel_size=(3, 3), stride=(1, 1), padding=(1, 1))\n",
              "    (22): ReLU(inplace=True)\n",
              "    (23): MaxPool2d(kernel_size=2, stride=2, padding=0, dilation=1, ceil_mode=False)\n",
              "    (24): Conv2d(512, 512, kernel_size=(3, 3), stride=(1, 1), padding=(1, 1))\n",
              "    (25): ReLU(inplace=True)\n",
              "    (26): Conv2d(512, 512, kernel_size=(3, 3), stride=(1, 1), padding=(1, 1))\n",
              "    (27): ReLU(inplace=True)\n",
              "    (28): Conv2d(512, 512, kernel_size=(3, 3), stride=(1, 1), padding=(1, 1))\n",
              "    (29): ReLU(inplace=True)\n",
              "    (30): MaxPool2d(kernel_size=2, stride=2, padding=0, dilation=1, ceil_mode=False)\n",
              "  )\n",
              "  (avgpool): AdaptiveAvgPool2d(output_size=(7, 7))\n",
              "  (classifier): Sequential(\n",
              "    (0): Linear(in_features=25088, out_features=4096, bias=True)\n",
              "    (1): ReLU(inplace=True)\n",
              "    (2): Dropout(p=0.5, inplace=False)\n",
              "    (3): Linear(in_features=4096, out_features=4096, bias=True)\n",
              "    (4): ReLU(inplace=True)\n",
              "    (5): Dropout(p=0.5, inplace=False)\n",
              "    (6): Linear(in_features=4096, out_features=100, bias=True)\n",
              "  )\n",
              ")"
            ]
          },
          "metadata": {},
          "execution_count": 31
        },
        {
          "output_type": "stream",
          "name": "stdout",
          "text": [
            "time: 141 ms (started: 2022-12-04 22:53:16 +00:00)\n"
          ]
        }
      ],
      "source": [
        "device = torch.device(\"cuda\") if torch.cuda.is_available() else torch.device(\"cpu\")\n",
        "vgg16_model.to(device)"
      ]
    },
    {
      "cell_type": "code",
      "execution_count": 32,
      "metadata": {
        "id": "hLt64_teaLKi",
        "colab": {
          "base_uri": "https://localhost:8080/"
        },
        "outputId": "578b7d65-cc8f-406c-9bf4-7a6b6cec6e98"
      },
      "outputs": [
        {
          "output_type": "execute_result",
          "data": {
            "text/plain": [
              "True"
            ]
          },
          "metadata": {},
          "execution_count": 32
        },
        {
          "output_type": "stream",
          "name": "stdout",
          "text": [
            "time: 7.55 ms (started: 2022-12-04 22:53:16 +00:00)\n"
          ]
        }
      ],
      "source": [
        "next(vgg16_model.parameters()).is_cuda"
      ]
    },
    {
      "cell_type": "code",
      "source": [
        "# Measuring Global Sparsity for VGG16 Model\n",
        "num_zeros, num_elements, sparsity = measure_global_sparsity(\n",
        "            vgg16_model,\n",
        "            weight=True,\n",
        "            bias=False,\n",
        "            conv2d_use_mask=False,\n",
        "            linear_use_mask=False)\n",
        "\n",
        "print(\"Global Sparsity:\")\n",
        "print(\"{:.2f}\".format(sparsity))"
      ],
      "metadata": {
        "id": "UkulfarCP4q0",
        "colab": {
          "base_uri": "https://localhost:8080/"
        },
        "outputId": "68f27bc8-67ad-46c0-ed14-8d206be898c7"
      },
      "execution_count": 33,
      "outputs": [
        {
          "output_type": "stream",
          "name": "stdout",
          "text": [
            "Global Sparsity:\n",
            "0.00\n",
            "time: 18.9 ms (started: 2022-12-04 22:53:16 +00:00)\n"
          ]
        }
      ]
    },
    {
      "cell_type": "markdown",
      "source": [
        "# Iterative Pruning Iteration"
      ],
      "metadata": {
        "id": "r5Ed54Z8oslY"
      }
    },
    {
      "cell_type": "markdown",
      "metadata": {
        "id": "q_Spz6ttbBa8"
      },
      "source": [
        "# Unstructured Pruning"
      ]
    },
    {
      "cell_type": "code",
      "execution_count": 34,
      "metadata": {
        "id": "0Z3kdi6SiCj0",
        "colab": {
          "base_uri": "https://localhost:8080/"
        },
        "outputId": "1941a97a-2c70-4b70-b29b-dcfefc13b4b8"
      },
      "outputs": [
        {
          "output_type": "stream",
          "name": "stdout",
          "text": [
            "time: 374 ms (started: 2022-12-04 22:53:16 +00:00)\n"
          ]
        }
      ],
      "source": [
        "ustp_model = unstructured_global_pruning(vgg16_model, 0.8)"
      ]
    },
    {
      "cell_type": "code",
      "execution_count": 35,
      "metadata": {
        "id": "mmWLpJeUTxms",
        "colab": {
          "base_uri": "https://localhost:8080/"
        },
        "outputId": "e9bbf287-b672-44bf-c577-68c17d2d3cd7"
      },
      "outputs": [
        {
          "output_type": "execute_result",
          "data": {
            "text/plain": [
              "True"
            ]
          },
          "metadata": {},
          "execution_count": 35
        },
        {
          "output_type": "stream",
          "name": "stdout",
          "text": [
            "time: 6.86 ms (started: 2022-12-04 22:53:16 +00:00)\n"
          ]
        }
      ],
      "source": [
        "next(ustp_model.parameters()).is_cuda"
      ]
    },
    {
      "cell_type": "code",
      "execution_count": 36,
      "metadata": {
        "id": "cOMgxIUI58Vb",
        "colab": {
          "base_uri": "https://localhost:8080/"
        },
        "outputId": "61c9582b-4623-43a7-a771-403a08c85f90"
      },
      "outputs": [
        {
          "output_type": "stream",
          "name": "stdout",
          "text": [
            "Accuracy :  73.29 \tLoss :  1.1272888870755577\n",
            "time: 9.88 s (started: 2022-12-04 22:53:16 +00:00)\n"
          ]
        }
      ],
      "source": [
        "acc, loss = evaluate(ustp_model, test_dataloader)\n",
        "print('Accuracy : ',acc , '\\tLoss : ', loss)"
      ]
    },
    {
      "cell_type": "code",
      "metadata": {
        "id": "6vxBPg2xoE9c",
        "colab": {
          "base_uri": "https://localhost:8080/"
        },
        "outputId": "3f05a3a1-27a6-456f-dd41-ec8f02407406"
      },
      "source": [
        "# Measuring Global Sparsity for Unstructured Pruning Model\n",
        "num_zeros, num_elements, sparsity = measure_global_sparsity(\n",
        "            ustp_model,\n",
        "            weight  = True,\n",
        "            bias    = False,\n",
        "            conv2d_use_mask = False,\n",
        "            linear_use_mask = False)\n",
        "\n",
        "print(\"Global Sparsity:\")\n",
        "print(\"{:.2f}\".format(sparsity))"
      ],
      "execution_count": 37,
      "outputs": [
        {
          "output_type": "stream",
          "name": "stdout",
          "text": [
            "Global Sparsity:\n",
            "0.80\n",
            "time: 15.7 ms (started: 2022-12-04 22:53:26 +00:00)\n"
          ]
        }
      ]
    },
    {
      "cell_type": "code",
      "metadata": {
        "id": "6_kxpO_NYh1L",
        "colab": {
          "base_uri": "https://localhost:8080/"
        },
        "outputId": "a750034c-8d0b-447b-b73c-902f8606a045"
      },
      "source": [
        "# Measuring Sparsity for each layer\n",
        "sparsity_layer = []\n",
        "i = 0\n",
        "layer = []\n",
        "for module_name, module in ustp_model.named_modules():\n",
        "  if isinstance(module, torch.nn.Conv2d) or isinstance(module, torch.nn.Linear):\n",
        "    num_zeros, num_elements, sparsity = measure_module_sparsity(module, weight=True, bias=False, use_mask=False)\n",
        "    print('Layer', i , num_zeros, num_elements, sparsity)\n",
        "    sparsity_layer.append(sparsity)\n",
        "    layer.append(i)\n",
        "    i+= 1"
      ],
      "execution_count": 38,
      "outputs": [
        {
          "output_type": "stream",
          "name": "stdout",
          "text": [
            "Layer 0 68 1728 0.03935185185185185\n",
            "Layer 1 5993 36864 0.1625705295138889\n",
            "Layer 2 12479 73728 0.1692572699652778\n",
            "Layer 3 28822 147456 0.1954616970486111\n",
            "Layer 4 67642 294912 0.2293633355034722\n",
            "Layer 5 163890 589824 0.277862548828125\n",
            "Layer 6 159437 589824 0.2703128390842014\n",
            "Layer 7 373889 1179648 0.31694963243272567\n",
            "Layer 8 929452 2359296 0.3939531114366319\n",
            "Layer 9 937448 2359296 0.3973422580295139\n",
            "Layer 10 899120 2359296 0.3810967339409722\n",
            "Layer 11 908280 2359296 0.384979248046875\n",
            "Layer 12 996838 2359296 0.42251502143012154\n",
            "Layer 13 93586310 102760448 0.9107230634105449\n",
            "Layer 14 10154797 16777216 0.6052730679512024\n",
            "Layer 15 1450837 4096000 0.354208251953125\n",
            "time: 53.7 ms (started: 2022-12-04 22:53:26 +00:00)\n"
          ]
        }
      ]
    },
    {
      "cell_type": "code",
      "source": [
        "# Plotting Sparsity vs Layers\n",
        "print('Sparsity: ', sparsity_layer)\n",
        "print('Layers: ', layer)\n",
        "\n",
        "plt.plot(sparsity_layer, layer)\n",
        "plt.ylabel('Layers')\n",
        "plt.xlabel('Sparsity')"
      ],
      "metadata": {
        "id": "qAzducc9mzPV",
        "colab": {
          "base_uri": "https://localhost:8080/",
          "height": 371
        },
        "outputId": "632c5a96-d1c0-40d8-ecf5-0ded906e79eb"
      },
      "execution_count": 39,
      "outputs": [
        {
          "output_type": "stream",
          "name": "stdout",
          "text": [
            "Sparsity:  [0.03935185185185185, 0.1625705295138889, 0.1692572699652778, 0.1954616970486111, 0.2293633355034722, 0.277862548828125, 0.2703128390842014, 0.31694963243272567, 0.3939531114366319, 0.3973422580295139, 0.3810967339409722, 0.384979248046875, 0.42251502143012154, 0.9107230634105449, 0.6052730679512024, 0.354208251953125]\n",
            "Layers:  [0, 1, 2, 3, 4, 5, 6, 7, 8, 9, 10, 11, 12, 13, 14, 15]\n"
          ]
        },
        {
          "output_type": "execute_result",
          "data": {
            "text/plain": [
              "Text(0.5, 0, 'Sparsity')"
            ]
          },
          "metadata": {},
          "execution_count": 39
        },
        {
          "output_type": "display_data",
          "data": {
            "text/plain": [
              "<Figure size 432x288 with 1 Axes>"
            ],
            "image/png": "[encoded data removed]"
          },
          "metadata": {
            "needs_background": "light"
          }
        },
        {
          "output_type": "stream",
          "name": "stdout",
          "text": [
            "time: 151 ms (started: 2022-12-04 22:53:26 +00:00)\n"
          ]
        }
      ]
    },
    {
      "cell_type": "code",
      "source": [
        "sparsity_layer = [ max(round(round(i,2)-0.01,2),0) for i in sparsity_layer]\n",
        "sparsity_layer"
      ],
      "metadata": {
        "colab": {
          "base_uri": "https://localhost:8080/"
        },
        "id": "5KhEHgru83_M",
        "outputId": "a066d0f5-0c70-4476-84e5-76e6c8b70b19"
      },
      "execution_count": 40,
      "outputs": [
        {
          "output_type": "execute_result",
          "data": {
            "text/plain": [
              "[0.03,\n",
              " 0.15,\n",
              " 0.16,\n",
              " 0.19,\n",
              " 0.22,\n",
              " 0.27,\n",
              " 0.26,\n",
              " 0.31,\n",
              " 0.38,\n",
              " 0.39,\n",
              " 0.37,\n",
              " 0.37,\n",
              " 0.41,\n",
              " 0.9,\n",
              " 0.6,\n",
              " 0.34]"
            ]
          },
          "metadata": {},
          "execution_count": 40
        },
        {
          "output_type": "stream",
          "name": "stdout",
          "text": [
            "time: 4.65 ms (started: 2022-12-04 22:53:26 +00:00)\n"
          ]
        }
      ]
    },
    {
      "cell_type": "markdown",
      "source": [
        "# Structured Pruning"
      ],
      "metadata": {
        "id": "K2gcgjXMW8hh"
      }
    },
    {
      "cell_type": "code",
      "source": [
        "stp_model = structured_pruning(ustp_model, sparsity_layer)"
      ],
      "metadata": {
        "id": "fYaA2EqEoX1B",
        "colab": {
          "base_uri": "https://localhost:8080/"
        },
        "outputId": "6a3f0856-2dce-4678-d251-9bcd3ad4b385"
      },
      "execution_count": 41,
      "outputs": [
        {
          "output_type": "stream",
          "name": "stdout",
          "text": [
            "time: 1.21 s (started: 2022-12-04 22:53:26 +00:00)\n"
          ]
        }
      ]
    },
    {
      "cell_type": "code",
      "source": [
        "tp.utils.count_params(stp_model)"
      ],
      "metadata": {
        "id": "gUwrae7YofpJ",
        "colab": {
          "base_uri": "https://localhost:8080/"
        },
        "outputId": "39d989a8-8789-4619-fc41-02e50331ad6d"
      },
      "execution_count": 42,
      "outputs": [
        {
          "output_type": "execute_result",
          "data": {
            "text/plain": [
              "13203121"
            ]
          },
          "metadata": {},
          "execution_count": 42
        },
        {
          "output_type": "stream",
          "name": "stdout",
          "text": [
            "time: 5.33 ms (started: 2022-12-04 22:53:28 +00:00)\n"
          ]
        }
      ]
    },
    {
      "cell_type": "code",
      "source": [
        "stp_model.classifier[6].out_features = 100\n",
        "print(stp_model)"
      ],
      "metadata": {
        "id": "XxcVZmJFokBK",
        "colab": {
          "base_uri": "https://localhost:8080/"
        },
        "outputId": "4168bd3c-7b2f-4ae4-e8c9-b28d617f17b1"
      },
      "execution_count": 43,
      "outputs": [
        {
          "output_type": "stream",
          "name": "stdout",
          "text": [
            "VGG(\n",
            "  (features): Sequential(\n",
            "    (0): Conv2d(3, 63, kernel_size=(3, 3), stride=(1, 1), padding=(1, 1))\n",
            "    (1): ReLU(inplace=True)\n",
            "    (2): Conv2d(63, 55, kernel_size=(3, 3), stride=(1, 1), padding=(1, 1))\n",
            "    (3): ReLU(inplace=True)\n",
            "    (4): MaxPool2d(kernel_size=2, stride=2, padding=0, dilation=1, ceil_mode=False)\n",
            "    (5): Conv2d(55, 108, kernel_size=(3, 3), stride=(1, 1), padding=(1, 1))\n",
            "    (6): ReLU(inplace=True)\n",
            "    (7): Conv2d(108, 104, kernel_size=(3, 3), stride=(1, 1), padding=(1, 1))\n",
            "    (8): ReLU(inplace=True)\n",
            "    (9): MaxPool2d(kernel_size=2, stride=2, padding=0, dilation=1, ceil_mode=False)\n",
            "    (10): Conv2d(104, 200, kernel_size=(3, 3), stride=(1, 1), padding=(1, 1))\n",
            "    (11): ReLU(inplace=True)\n",
            "    (12): Conv2d(200, 187, kernel_size=(3, 3), stride=(1, 1), padding=(1, 1))\n",
            "    (13): ReLU(inplace=True)\n",
            "    (14): Conv2d(187, 190, kernel_size=(3, 3), stride=(1, 1), padding=(1, 1))\n",
            "    (15): ReLU(inplace=True)\n",
            "    (16): MaxPool2d(kernel_size=2, stride=2, padding=0, dilation=1, ceil_mode=False)\n",
            "    (17): Conv2d(190, 354, kernel_size=(3, 3), stride=(1, 1), padding=(1, 1))\n",
            "    (18): ReLU(inplace=True)\n",
            "    (19): Conv2d(354, 318, kernel_size=(3, 3), stride=(1, 1), padding=(1, 1))\n",
            "    (20): ReLU(inplace=True)\n",
            "    (21): Conv2d(318, 313, kernel_size=(3, 3), stride=(1, 1), padding=(1, 1))\n",
            "    (22): ReLU(inplace=True)\n",
            "    (23): MaxPool2d(kernel_size=2, stride=2, padding=0, dilation=1, ceil_mode=False)\n",
            "    (24): Conv2d(313, 323, kernel_size=(3, 3), stride=(1, 1), padding=(1, 1))\n",
            "    (25): ReLU(inplace=True)\n",
            "    (26): Conv2d(323, 323, kernel_size=(3, 3), stride=(1, 1), padding=(1, 1))\n",
            "    (27): ReLU(inplace=True)\n",
            "    (28): Conv2d(323, 303, kernel_size=(3, 3), stride=(1, 1), padding=(1, 1))\n",
            "    (29): ReLU(inplace=True)\n",
            "    (30): MaxPool2d(kernel_size=2, stride=2, padding=0, dilation=1, ceil_mode=False)\n",
            "  )\n",
            "  (avgpool): AdaptiveAvgPool2d(output_size=(7, 7))\n",
            "  (classifier): Sequential(\n",
            "    (0): Linear(in_features=14847, out_features=410, bias=True)\n",
            "    (1): ReLU(inplace=True)\n",
            "    (2): Dropout(p=0.5, inplace=False)\n",
            "    (3): Linear(in_features=410, out_features=1639, bias=True)\n",
            "    (4): ReLU(inplace=True)\n",
            "    (5): Dropout(p=0.5, inplace=False)\n",
            "    (6): Linear(in_features=1639, out_features=100, bias=True)\n",
            "  )\n",
            ")\n",
            "time: 1.34 ms (started: 2022-12-04 22:53:28 +00:00)\n"
          ]
        }
      ]
    },
    {
      "cell_type": "code",
      "source": [
        "stp_model = stp_model.to(device)\n",
        "acc, loss = evaluate(stp_model, test_dataloader)\n",
        "print('Accuracy : ',acc , '\\tLoss : ', loss)"
      ],
      "metadata": {
        "id": "sAlhQyh3on5p",
        "colab": {
          "base_uri": "https://localhost:8080/"
        },
        "outputId": "7974d827-7af5-4bc0-a3b0-4b02311e3642"
      },
      "execution_count": 44,
      "outputs": [
        {
          "output_type": "stream",
          "name": "stdout",
          "text": [
            "Accuracy :  6.22 \tLoss :  4.476632625434049\n",
            "time: 6.92 s (started: 2022-12-04 22:53:28 +00:00)\n"
          ]
        }
      ]
    },
    {
      "cell_type": "markdown",
      "source": [
        "# Fine Tuning"
      ],
      "metadata": {
        "id": "kqd25_DdUUJf"
      }
    },
    {
      "cell_type": "code",
      "source": [
        "sgd_optimizer = torch.optim.SGD(stp_model.parameters(), lr = 0.001, momentum = 0.9)\n",
        "epochs = 10\n",
        "\n",
        "for epoch in range(epochs):\n",
        "  #Fit model\n",
        "  fit(stp_model, train_dataloader, sgd_optimizer, None, criterion)\n",
        "\n",
        "  #Train validation\n",
        "  trn_acc, trn_lss = evaluate(stp_model, train_dataloader)\n",
        "\n",
        "  #Test validation\n",
        "  tst_acc, tst_lss = evaluate(stp_model, test_dataloader)\n",
        "\n",
        "  print(f'Epoch:{epoch+1:2.0f}\\t Train_Loss:{trn_lss:.4f}\\t Train_Acc:{trn_acc:.4f}\\t Test_Loss:{tst_lss:.4f}\\t Test_Acc:{tst_acc:.4f}')"
      ],
      "metadata": {
        "id": "GPQAsD5rotdo",
        "colab": {
          "base_uri": "https://localhost:8080/"
        },
        "outputId": "ec51b87f-ad33-46e2-809c-4b93b5c88fbb"
      },
      "execution_count": null,
      "outputs": [
        {
          "output_type": "stream",
          "name": "stdout",
          "text": [
            "Epoch: 1\t Train_Loss:0.9694\t Train_Acc:71.4100\t Test_Loss:1.2487\t Test_Acc:64.1500\n",
            "Epoch: 2\t Train_Loss:0.7604\t Train_Acc:77.3440\t Test_Loss:1.1600\t Test_Acc:67.8800\n",
            "Epoch: 3\t Train_Loss:0.6134\t Train_Acc:81.6720\t Test_Loss:1.0788\t Test_Acc:70.3800\n",
            "Epoch: 4\t Train_Loss:0.5870\t Train_Acc:82.2180\t Test_Loss:1.1272\t Test_Acc:70.1100\n",
            "Epoch: 5\t Train_Loss:0.5112\t Train_Acc:84.2400\t Test_Loss:1.1295\t Test_Acc:70.3000\n",
            "Epoch: 6\t Train_Loss:0.4535\t Train_Acc:85.8360\t Test_Loss:1.1183\t Test_Acc:71.0000\n",
            "Epoch: 7\t Train_Loss:0.4197\t Train_Acc:86.7700\t Test_Loss:1.1393\t Test_Acc:71.7700\n",
            "Epoch: 8\t Train_Loss:0.3880\t Train_Acc:87.7800\t Test_Loss:1.1633\t Test_Acc:71.4200\n"
          ]
        }
      ]
    },
    {
      "cell_type": "code",
      "source": [
        "sgd_optimizer = torch.optim.SGD(stp_model.parameters(), lr = 0.0001, momentum = 0.9)\n",
        "epochs = 5\n",
        "\n",
        "for epoch in range(epochs):\n",
        "  #Fit model\n",
        "  fit(stp_model, train_dataloader, sgd_optimizer, None, criterion)\n",
        "\n",
        "  #Train validation\n",
        "  trn_acc, trn_lss = evaluate(stp_model, train_dataloader)\n",
        "\n",
        "  #Test validation\n",
        "  tst_acc, tst_lss = evaluate(stp_model, test_dataloader)\n",
        "\n",
        "  print(f'Epoch:{epoch+11:2.0f}\\t Train_Loss:{trn_lss:.4f}\\t Train_Acc:{trn_acc:.4f}\\t Test_Loss:{tst_lss:.4f}\\t Test_Acc:{tst_acc:.4f}')"
      ],
      "metadata": {
        "id": "s1JUwJiDuxmr"
      },
      "execution_count": null,
      "outputs": []
    },
    {
      "cell_type": "code",
      "source": [
        "sgd_optimizer = torch.optim.SGD(stp_model.parameters(), lr = 0.00001, momentum = 0.9)\n",
        "epochs = 5\n",
        "\n",
        "for epoch in range(epochs):\n",
        "  #Fit model\n",
        "  fit(stp_model, train_dataloader, sgd_optimizer, None , criterion)\n",
        "\n",
        "  #Train validation\n",
        "  trn_acc, trn_lss = evaluate(stp_model, train_dataloader)\n",
        "\n",
        "  #Test validation\n",
        "  tst_acc, tst_lss = evaluate(stp_model, test_dataloader)\n",
        "\n",
        "  print(f'Epoch:{epoch+16:2.0f}\\t Train_Loss:{trn_lss:.4f}\\t Train_Acc:{trn_acc:.4f}\\t Test_Loss:{tst_lss:.4f}\\t Test_Acc:{tst_acc:.4f}')"
      ],
      "metadata": {
        "id": "z91J0U0_uvLo"
      },
      "execution_count": null,
      "outputs": []
    },
    {
      "cell_type": "code",
      "source": [
        "acc, loss = evaluate(stp_model, test_dataloader)\n",
        "print('Accuracy : ',acc , '\\tLoss : ', loss)"
      ],
      "metadata": {
        "id": "YyLP223u34x8"
      },
      "execution_count": null,
      "outputs": []
    },
    {
      "cell_type": "code",
      "source": [
        "torch.save(stp_model, 'pruned_model.pt')"
      ],
      "metadata": {
        "id": "24SH-v7b4VCN"
      },
      "execution_count": null,
      "outputs": []
    },
    {
      "cell_type": "code",
      "source": [
        "import sys\n",
        "sys.getsizeof('pruned_model.pt')"
      ],
      "metadata": {
        "id": "9xrfgfpC5x-C"
      },
      "execution_count": null,
      "outputs": []
    },
    {
      "cell_type": "code",
      "source": [
        "import os\n",
        "pruned_model_size = os.path.getsize('pruned_model.pt')\n",
        "print(\"Pruned Model Size is :\", pruned_model_size/(1024*1024), \"mb\")"
      ],
      "metadata": {
        "id": "OqUJ6DZ060VV"
      },
      "execution_count": null,
      "outputs": []
    },
    {
      "cell_type": "code",
      "source": [
        "original_model_size = os.path.getsize('/content/gdrive/My Drive/Colab Notebooks/VGG16(SGD)-v1.0')\n",
        "print(\"Original VGG16 Model Size is :\", original_model_size/(1024*1024), \"mb\")"
      ],
      "metadata": {
        "id": "9cqF9oYm7zN8"
      },
      "execution_count": null,
      "outputs": []
    },
    {
      "cell_type": "code",
      "source": [
        "print(stp_model)"
      ],
      "metadata": {
        "id": "iyJQM_fpi4Hh"
      },
      "execution_count": null,
      "outputs": []
    }
  ],
  "metadata": {
    "accelerator": "GPU",
    "colab": {
      "provenance": []
    },
    "kernelspec": {
      "display_name": "Python 3",
      "language": "python",
      "name": "python3"
    },
    "language_info": {
      "codemirror_mode": {
        "name": "ipython",
        "version": 3
      },
      "file_extension": ".py",
      "mimetype": "text/x-python",
      "name": "python",
      "nbconvert_exporter": "python",
      "pygments_lexer": "ipython3",
      "version": "3.8.6"
    },
    "widgets": {
      "application/vnd.jupyter.widget-state+json": {
        "a2648445998643de804d54547c29051d": {
          "model_module": "@jupyter-widgets/controls",
          "model_name": "HBoxModel",
          "model_module_version": "1.5.0",
          "state": {
            "_dom_classes": [],
            "_model_module": "@jupyter-widgets/controls",
            "_model_module_version": "1.5.0",
            "_model_name": "HBoxModel",
            "_view_count": null,
            "_view_module": "@jupyter-widgets/controls",
            "_view_module_version": "1.5.0",
            "_view_name": "HBoxView",
            "box_style": "",
            "children": [
              "IPY_MODEL_16c8f05bb2624e94a3df4bab00edc71d",
              "IPY_MODEL_201e464e189245a7bab36d1fc0b1490d",
              "IPY_MODEL_d2bfe2e0938a4439a78445ecef7a41c7"
            ],
            "layout": "IPY_MODEL_cf90f07b5bce49969c2e60ca9cc1e353"
          }
        },
        "16c8f05bb2624e94a3df4bab00edc71d": {
          "model_module": "@jupyter-widgets/controls",
          "model_name": "HTMLModel",
          "model_module_version": "1.5.0",
          "state": {
            "_dom_classes": [],
            "_model_module": "@jupyter-widgets/controls",
            "_model_module_version": "1.5.0",
            "_model_name": "HTMLModel",
            "_view_count": null,
            "_view_module": "@jupyter-widgets/controls",
            "_view_module_version": "1.5.0",
            "_view_name": "HTMLView",
            "description": "",
            "description_tooltip": null,
            "layout": "IPY_MODEL_2776ea07ff134db89854c33604062f6c",
            "placeholder": "​",
            "style": "IPY_MODEL_6998e232d7df4b6883799b97870232cb",
            "value": "100%"
          }
        },
        "201e464e189245a7bab36d1fc0b1490d": {
          "model_module": "@jupyter-widgets/controls",
          "model_name": "FloatProgressModel",
          "model_module_version": "1.5.0",
          "state": {
            "_dom_classes": [],
            "_model_module": "@jupyter-widgets/controls",
            "_model_module_version": "1.5.0",
            "_model_name": "FloatProgressModel",
            "_view_count": null,
            "_view_module": "@jupyter-widgets/controls",
            "_view_module_version": "1.5.0",
            "_view_name": "ProgressView",
            "bar_style": "success",
            "description": "",
            "description_tooltip": null,
            "layout": "IPY_MODEL_21e5a8473b8340f0a0069a6cfe1a5c9d",
            "max": 169001437,
            "min": 0,
            "orientation": "horizontal",
            "style": "IPY_MODEL_ae2e9338dbf044869d54995b578fc740",
            "value": 169001437
          }
        },
        "d2bfe2e0938a4439a78445ecef7a41c7": {
          "model_module": "@jupyter-widgets/controls",
          "model_name": "HTMLModel",
          "model_module_version": "1.5.0",
          "state": {
            "_dom_classes": [],
            "_model_module": "@jupyter-widgets/controls",
            "_model_module_version": "1.5.0",
            "_model_name": "HTMLModel",
            "_view_count": null,
            "_view_module": "@jupyter-widgets/controls",
            "_view_module_version": "1.5.0",
            "_view_name": "HTMLView",
            "description": "",
            "description_tooltip": null,
            "layout": "IPY_MODEL_a450c9b6a4fa4ace92938579445729fd",
            "placeholder": "​",
            "style": "IPY_MODEL_925cd905ab244e2fb90c3a6f5f0eebf1",
            "value": " 169001437/169001437 [00:02&lt;00:00, 73700448.66it/s]"
          }
        },
        "cf90f07b5bce49969c2e60ca9cc1e353": {
          "model_module": "@jupyter-widgets/base",
          "model_name": "LayoutModel",
          "model_module_version": "1.2.0",
          "state": {
            "_model_module": "@jupyter-widgets/base",
            "_model_module_version": "1.2.0",
            "_model_name": "LayoutModel",
            "_view_count": null,
            "_view_module": "@jupyter-widgets/base",
            "_view_module_version": "1.2.0",
            "_view_name": "LayoutView",
            "align_content": null,
            "align_items": null,
            "align_self": null,
            "border": null,
            "bottom": null,
            "display": null,
            "flex": null,
            "flex_flow": null,
            "grid_area": null,
            "grid_auto_columns": null,
            "grid_auto_flow": null,
            "grid_auto_rows": null,
            "grid_column": null,
            "grid_gap": null,
            "grid_row": null,
            "grid_template_areas": null,
            "grid_template_columns": null,
            "grid_template_rows": null,
            "height": null,
            "justify_content": null,
            "justify_items": null,
            "left": null,
            "margin": null,
            "max_height": null,
            "max_width": null,
            "min_height": null,
            "min_width": null,
            "object_fit": null,
            "object_position": null,
            "order": null,
            "overflow": null,
            "overflow_x": null,
            "overflow_y": null,
            "padding": null,
            "right": null,
            "top": null,
            "visibility": null,
            "width": null
          }
        },
        "2776ea07ff134db89854c33604062f6c": {
          "model_module": "@jupyter-widgets/base",
          "model_name": "LayoutModel",
          "model_module_version": "1.2.0",
          "state": {
            "_model_module": "@jupyter-widgets/base",
            "_model_module_version": "1.2.0",
            "_model_name": "LayoutModel",
            "_view_count": null,
            "_view_module": "@jupyter-widgets/base",
            "_view_module_version": "1.2.0",
            "_view_name": "LayoutView",
            "align_content": null,
            "align_items": null,
            "align_self": null,
            "border": null,
            "bottom": null,
            "display": null,
            "flex": null,
            "flex_flow": null,
            "grid_area": null,
            "grid_auto_columns": null,
            "grid_auto_flow": null,
            "grid_auto_rows": null,
            "grid_column": null,
            "grid_gap": null,
            "grid_row": null,
            "grid_template_areas": null,
            "grid_template_columns": null,
            "grid_template_rows": null,
            "height": null,
            "justify_content": null,
            "justify_items": null,
            "left": null,
            "margin": null,
            "max_height": null,
            "max_width": null,
            "min_height": null,
            "min_width": null,
            "object_fit": null,
            "object_position": null,
            "order": null,
            "overflow": null,
            "overflow_x": null,
            "overflow_y": null,
            "padding": null,
            "right": null,
            "top": null,
            "visibility": null,
            "width": null
          }
        },
        "6998e232d7df4b6883799b97870232cb": {
          "model_module": "@jupyter-widgets/controls",
          "model_name": "DescriptionStyleModel",
          "model_module_version": "1.5.0",
          "state": {
            "_model_module": "@jupyter-widgets/controls",
            "_model_module_version": "1.5.0",
            "_model_name": "DescriptionStyleModel",
            "_view_count": null,
            "_view_module": "@jupyter-widgets/base",
            "_view_module_version": "1.2.0",
            "_view_name": "StyleView",
            "description_width": ""
          }
        },
        "21e5a8473b8340f0a0069a6cfe1a5c9d": {
          "model_module": "@jupyter-widgets/base",
          "model_name": "LayoutModel",
          "model_module_version": "1.2.0",
          "state": {
            "_model_module": "@jupyter-widgets/base",
            "_model_module_version": "1.2.0",
            "_model_name": "LayoutModel",
            "_view_count": null,
            "_view_module": "@jupyter-widgets/base",
            "_view_module_version": "1.2.0",
            "_view_name": "LayoutView",
            "align_content": null,
            "align_items": null,
            "align_self": null,
            "border": null,
            "bottom": null,
            "display": null,
            "flex": null,
            "flex_flow": null,
            "grid_area": null,
            "grid_auto_columns": null,
            "grid_auto_flow": null,
            "grid_auto_rows": null,
            "grid_column": null,
            "grid_gap": null,
            "grid_row": null,
            "grid_template_areas": null,
            "grid_template_columns": null,
            "grid_template_rows": null,
            "height": null,
            "justify_content": null,
            "justify_items": null,
            "left": null,
            "margin": null,
            "max_height": null,
            "max_width": null,
            "min_height": null,
            "min_width": null,
            "object_fit": null,
            "object_position": null,
            "order": null,
            "overflow": null,
            "overflow_x": null,
            "overflow_y": null,
            "padding": null,
            "right": null,
            "top": null,
            "visibility": null,
            "width": null
          }
        },
        "ae2e9338dbf044869d54995b578fc740": {
          "model_module": "@jupyter-widgets/controls",
          "model_name": "ProgressStyleModel",
          "model_module_version": "1.5.0",
          "state": {
            "_model_module": "@jupyter-widgets/controls",
            "_model_module_version": "1.5.0",
            "_model_name": "ProgressStyleModel",
            "_view_count": null,
            "_view_module": "@jupyter-widgets/base",
            "_view_module_version": "1.2.0",
            "_view_name": "StyleView",
            "bar_color": null,
            "description_width": ""
          }
        },
        "a450c9b6a4fa4ace92938579445729fd": {
          "model_module": "@jupyter-widgets/base",
          "model_name": "LayoutModel",
          "model_module_version": "1.2.0",
          "state": {
            "_model_module": "@jupyter-widgets/base",
            "_model_module_version": "1.2.0",
            "_model_name": "LayoutModel",
            "_view_count": null,
            "_view_module": "@jupyter-widgets/base",
            "_view_module_version": "1.2.0",
            "_view_name": "LayoutView",
            "align_content": null,
            "align_items": null,
            "align_self": null,
            "border": null,
            "bottom": null,
            "display": null,
            "flex": null,
            "flex_flow": null,
            "grid_area": null,
            "grid_auto_columns": null,
            "grid_auto_flow": null,
            "grid_auto_rows": null,
            "grid_column": null,
            "grid_gap": null,
            "grid_row": null,
            "grid_template_areas": null,
            "grid_template_columns": null,
            "grid_template_rows": null,
            "height": null,
            "justify_content": null,
            "justify_items": null,
            "left": null,
            "margin": null,
            "max_height": null,
            "max_width": null,
            "min_height": null,
            "min_width": null,
            "object_fit": null,
            "object_position": null,
            "order": null,
            "overflow": null,
            "overflow_x": null,
            "overflow_y": null,
            "padding": null,
            "right": null,
            "top": null,
            "visibility": null,
            "width": null
          }
        },
        "925cd905ab244e2fb90c3a6f5f0eebf1": {
          "model_module": "@jupyter-widgets/controls",
          "model_name": "DescriptionStyleModel",
          "model_module_version": "1.5.0",
          "state": {
            "_model_module": "@jupyter-widgets/controls",
            "_model_module_version": "1.5.0",
            "_model_name": "DescriptionStyleModel",
            "_view_count": null,
            "_view_module": "@jupyter-widgets/base",
            "_view_module_version": "1.2.0",
            "_view_name": "StyleView",
            "description_width": ""
          }
        },
        "6a9816cd8fa54d179522a263e1774fbd": {
          "model_module": "@jupyter-widgets/controls",
          "model_name": "HBoxModel",
          "model_module_version": "1.5.0",
          "state": {
            "_dom_classes": [],
            "_model_module": "@jupyter-widgets/controls",
            "_model_module_version": "1.5.0",
            "_model_name": "HBoxModel",
            "_view_count": null,
            "_view_module": "@jupyter-widgets/controls",
            "_view_module_version": "1.5.0",
            "_view_name": "HBoxView",
            "box_style": "",
            "children": [
              "IPY_MODEL_206d064c10134fd2bb600f1f8b5c6319",
              "IPY_MODEL_f453882ff26447f6827d7014defdfe9b",
              "IPY_MODEL_effda5a06a914065a0f49ca891222616"
            ],
            "layout": "IPY_MODEL_7b97f74cc0cf4f8d8fa44def57e88a82"
          }
        },
        "206d064c10134fd2bb600f1f8b5c6319": {
          "model_module": "@jupyter-widgets/controls",
          "model_name": "HTMLModel",
          "model_module_version": "1.5.0",
          "state": {
            "_dom_classes": [],
            "_model_module": "@jupyter-widgets/controls",
            "_model_module_version": "1.5.0",
            "_model_name": "HTMLModel",
            "_view_count": null,
            "_view_module": "@jupyter-widgets/controls",
            "_view_module_version": "1.5.0",
            "_view_name": "HTMLView",
            "description": "",
            "description_tooltip": null,
            "layout": "IPY_MODEL_b0f7d11dc431402784a461a490a64439",
            "placeholder": "​",
            "style": "IPY_MODEL_6c7799b72007416a95798b01593376cb",
            "value": "100%"
          }
        },
        "f453882ff26447f6827d7014defdfe9b": {
          "model_module": "@jupyter-widgets/controls",
          "model_name": "FloatProgressModel",
          "model_module_version": "1.5.0",
          "state": {
            "_dom_classes": [],
            "_model_module": "@jupyter-widgets/controls",
            "_model_module_version": "1.5.0",
            "_model_name": "FloatProgressModel",
            "_view_count": null,
            "_view_module": "@jupyter-widgets/controls",
            "_view_module_version": "1.5.0",
            "_view_name": "ProgressView",
            "bar_style": "success",
            "description": "",
            "description_tooltip": null,
            "layout": "IPY_MODEL_e68e2a65f4b9492d96422c3b6caf63e1",
            "max": 553433881,
            "min": 0,
            "orientation": "horizontal",
            "style": "IPY_MODEL_82a0b2b3beb14a0abb73981ea8d2ecf3",
            "value": 553433881
          }
        },
        "effda5a06a914065a0f49ca891222616": {
          "model_module": "@jupyter-widgets/controls",
          "model_name": "HTMLModel",
          "model_module_version": "1.5.0",
          "state": {
            "_dom_classes": [],
            "_model_module": "@jupyter-widgets/controls",
            "_model_module_version": "1.5.0",
            "_model_name": "HTMLModel",
            "_view_count": null,
            "_view_module": "@jupyter-widgets/controls",
            "_view_module_version": "1.5.0",
            "_view_name": "HTMLView",
            "description": "",
            "description_tooltip": null,
            "layout": "IPY_MODEL_5fca56a43d7f4acd8ef6b71fc31bca0c",
            "placeholder": "​",
            "style": "IPY_MODEL_b57e55ba447a4204828c0f11bfe90d0d",
            "value": " 528M/528M [00:04&lt;00:00, 207MB/s]"
          }
        },
        "7b97f74cc0cf4f8d8fa44def57e88a82": {
          "model_module": "@jupyter-widgets/base",
          "model_name": "LayoutModel",
          "model_module_version": "1.2.0",
          "state": {
            "_model_module": "@jupyter-widgets/base",
            "_model_module_version": "1.2.0",
            "_model_name": "LayoutModel",
            "_view_count": null,
            "_view_module": "@jupyter-widgets/base",
            "_view_module_version": "1.2.0",
            "_view_name": "LayoutView",
            "align_content": null,
            "align_items": null,
            "align_self": null,
            "border": null,
            "bottom": null,
            "display": null,
            "flex": null,
            "flex_flow": null,
            "grid_area": null,
            "grid_auto_columns": null,
            "grid_auto_flow": null,
            "grid_auto_rows": null,
            "grid_column": null,
            "grid_gap": null,
            "grid_row": null,
            "grid_template_areas": null,
            "grid_template_columns": null,
            "grid_template_rows": null,
            "height": null,
            "justify_content": null,
            "justify_items": null,
            "left": null,
            "margin": null,
            "max_height": null,
            "max_width": null,
            "min_height": null,
            "min_width": null,
            "object_fit": null,
            "object_position": null,
            "order": null,
            "overflow": null,
            "overflow_x": null,
            "overflow_y": null,
            "padding": null,
            "right": null,
            "top": null,
            "visibility": null,
            "width": null
          }
        },
        "b0f7d11dc431402784a461a490a64439": {
          "model_module": "@jupyter-widgets/base",
          "model_name": "LayoutModel",
          "model_module_version": "1.2.0",
          "state": {
            "_model_module": "@jupyter-widgets/base",
            "_model_module_version": "1.2.0",
            "_model_name": "LayoutModel",
            "_view_count": null,
            "_view_module": "@jupyter-widgets/base",
            "_view_module_version": "1.2.0",
            "_view_name": "LayoutView",
            "align_content": null,
            "align_items": null,
            "align_self": null,
            "border": null,
            "bottom": null,
            "display": null,
            "flex": null,
            "flex_flow": null,
            "grid_area": null,
            "grid_auto_columns": null,
            "grid_auto_flow": null,
            "grid_auto_rows": null,
            "grid_column": null,
            "grid_gap": null,
            "grid_row": null,
            "grid_template_areas": null,
            "grid_template_columns": null,
            "grid_template_rows": null,
            "height": null,
            "justify_content": null,
            "justify_items": null,
            "left": null,
            "margin": null,
            "max_height": null,
            "max_width": null,
            "min_height": null,
            "min_width": null,
            "object_fit": null,
            "object_position": null,
            "order": null,
            "overflow": null,
            "overflow_x": null,
            "overflow_y": null,
            "padding": null,
            "right": null,
            "top": null,
            "visibility": null,
            "width": null
          }
        },
        "6c7799b72007416a95798b01593376cb": {
          "model_module": "@jupyter-widgets/controls",
          "model_name": "DescriptionStyleModel",
          "model_module_version": "1.5.0",
          "state": {
            "_model_module": "@jupyter-widgets/controls",
            "_model_module_version": "1.5.0",
            "_model_name": "DescriptionStyleModel",
            "_view_count": null,
            "_view_module": "@jupyter-widgets/base",
            "_view_module_version": "1.2.0",
            "_view_name": "StyleView",
            "description_width": ""
          }
        },
        "e68e2a65f4b9492d96422c3b6caf63e1": {
          "model_module": "@jupyter-widgets/base",
          "model_name": "LayoutModel",
          "model_module_version": "1.2.0",
          "state": {
            "_model_module": "@jupyter-widgets/base",
            "_model_module_version": "1.2.0",
            "_model_name": "LayoutModel",
            "_view_count": null,
            "_view_module": "@jupyter-widgets/base",
            "_view_module_version": "1.2.0",
            "_view_name": "LayoutView",
            "align_content": null,
            "align_items": null,
            "align_self": null,
            "border": null,
            "bottom": null,
            "display": null,
            "flex": null,
            "flex_flow": null,
            "grid_area": null,
            "grid_auto_columns": null,
            "grid_auto_flow": null,
            "grid_auto_rows": null,
            "grid_column": null,
            "grid_gap": null,
            "grid_row": null,
            "grid_template_areas": null,
            "grid_template_columns": null,
            "grid_template_rows": null,
            "height": null,
            "justify_content": null,
            "justify_items": null,
            "left": null,
            "margin": null,
            "max_height": null,
            "max_width": null,
            "min_height": null,
            "min_width": null,
            "object_fit": null,
            "object_position": null,
            "order": null,
            "overflow": null,
            "overflow_x": null,
            "overflow_y": null,
            "padding": null,
            "right": null,
            "top": null,
            "visibility": null,
            "width": null
          }
        },
        "82a0b2b3beb14a0abb73981ea8d2ecf3": {
          "model_module": "@jupyter-widgets/controls",
          "model_name": "ProgressStyleModel",
          "model_module_version": "1.5.0",
          "state": {
            "_model_module": "@jupyter-widgets/controls",
            "_model_module_version": "1.5.0",
            "_model_name": "ProgressStyleModel",
            "_view_count": null,
            "_view_module": "@jupyter-widgets/base",
            "_view_module_version": "1.2.0",
            "_view_name": "StyleView",
            "bar_color": null,
            "description_width": ""
          }
        },
        "5fca56a43d7f4acd8ef6b71fc31bca0c": {
          "model_module": "@jupyter-widgets/base",
          "model_name": "LayoutModel",
          "model_module_version": "1.2.0",
          "state": {
            "_model_module": "@jupyter-widgets/base",
            "_model_module_version": "1.2.0",
            "_model_name": "LayoutModel",
            "_view_count": null,
            "_view_module": "@jupyter-widgets/base",
            "_view_module_version": "1.2.0",
            "_view_name": "LayoutView",
            "align_content": null,
            "align_items": null,
            "align_self": null,
            "border": null,
            "bottom": null,
            "display": null,
            "flex": null,
            "flex_flow": null,
            "grid_area": null,
            "grid_auto_columns": null,
            "grid_auto_flow": null,
            "grid_auto_rows": null,
            "grid_column": null,
            "grid_gap": null,
            "grid_row": null,
            "grid_template_areas": null,
            "grid_template_columns": null,
            "grid_template_rows": null,
            "height": null,
            "justify_content": null,
            "justify_items": null,
            "left": null,
            "margin": null,
            "max_height": null,
            "max_width": null,
            "min_height": null,
            "min_width": null,
            "object_fit": null,
            "object_position": null,
            "order": null,
            "overflow": null,
            "overflow_x": null,
            "overflow_y": null,
            "padding": null,
            "right": null,
            "top": null,
            "visibility": null,
            "width": null
          }
        },
        "b57e55ba447a4204828c0f11bfe90d0d": {
          "model_module": "@jupyter-widgets/controls",
          "model_name": "DescriptionStyleModel",
          "model_module_version": "1.5.0",
          "state": {
            "_model_module": "@jupyter-widgets/controls",
            "_model_module_version": "1.5.0",
            "_model_name": "DescriptionStyleModel",
            "_view_count": null,
            "_view_module": "@jupyter-widgets/base",
            "_view_module_version": "1.2.0",
            "_view_name": "StyleView",
            "description_width": ""
          }
        }
      }
    }
  },
  "nbformat": 4,
  "nbformat_minor": 0
}